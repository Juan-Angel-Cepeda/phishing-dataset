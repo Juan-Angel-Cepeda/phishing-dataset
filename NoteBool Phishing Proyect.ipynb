{
 "cells": [
  {
   "cell_type": "code",
   "execution_count": 1,
   "metadata": {},
   "outputs": [],
   "source": [
    "from scipy.io import arff\n",
    "import pandas as pd\n",
    "\n",
    "DATA_ARFF_PATH = r\"C:\\Users\\USER\\Google Drive\\UACH\\8 Semestre\\Data Science\\Phishing Dataset\\Training Dataset.arff\"\n",
    "data = arff.loadarff(DATA_ARFF_PATH)\n"
   ]
  },
  {
   "cell_type": "code",
   "execution_count": 2,
   "metadata": {},
   "outputs": [],
   "source": [
    "dataFramePhising = pd.DataFrame(data[0])"
   ]
  },
  {
   "cell_type": "code",
   "execution_count": 3,
   "metadata": {},
   "outputs": [
    {
     "name": "stdout",
     "output_type": "stream",
     "text": [
      "  having_IP_Address URL_Length Shortining_Service having_At_Symbol  \\\n",
      "0             b'-1'       b'1'               b'1'             b'1'   \n",
      "1              b'1'       b'1'               b'1'             b'1'   \n",
      "2              b'1'       b'0'               b'1'             b'1'   \n",
      "3              b'1'       b'0'               b'1'             b'1'   \n",
      "4              b'1'       b'0'              b'-1'             b'1'   \n",
      "\n",
      "  double_slash_redirecting Prefix_Suffix having_Sub_Domain SSLfinal_State  \\\n",
      "0                    b'-1'         b'-1'             b'-1'          b'-1'   \n",
      "1                     b'1'         b'-1'              b'0'           b'1'   \n",
      "2                     b'1'         b'-1'             b'-1'          b'-1'   \n",
      "3                     b'1'         b'-1'             b'-1'          b'-1'   \n",
      "4                     b'1'         b'-1'              b'1'           b'1'   \n",
      "\n",
      "  Domain_registeration_length Favicon  ... popUpWidnow Iframe age_of_domain  \\\n",
      "0                       b'-1'    b'1'  ...        b'1'   b'1'         b'-1'   \n",
      "1                       b'-1'    b'1'  ...        b'1'   b'1'         b'-1'   \n",
      "2                       b'-1'    b'1'  ...        b'1'   b'1'          b'1'   \n",
      "3                        b'1'    b'1'  ...        b'1'   b'1'         b'-1'   \n",
      "4                       b'-1'    b'1'  ...       b'-1'   b'1'         b'-1'   \n",
      "\n",
      "  DNSRecord web_traffic Page_Rank Google_Index Links_pointing_to_page  \\\n",
      "0     b'-1'       b'-1'     b'-1'         b'1'                   b'1'   \n",
      "1     b'-1'        b'0'     b'-1'         b'1'                   b'1'   \n",
      "2     b'-1'        b'1'     b'-1'         b'1'                   b'0'   \n",
      "3     b'-1'        b'1'     b'-1'         b'1'                  b'-1'   \n",
      "4     b'-1'        b'0'     b'-1'         b'1'                   b'1'   \n",
      "\n",
      "  Statistical_report Result  \n",
      "0              b'-1'  b'-1'  \n",
      "1               b'1'  b'-1'  \n",
      "2              b'-1'  b'-1'  \n",
      "3               b'1'  b'-1'  \n",
      "4               b'1'   b'1'  \n",
      "\n",
      "[5 rows x 31 columns]\n"
     ]
    },
    {
     "data": {
      "text/plain": [
       "11055"
      ]
     },
     "execution_count": 3,
     "metadata": {},
     "output_type": "execute_result"
    }
   ],
   "source": [
    "print(dataFramePhising.head())\n",
    "len(dataFramePhising)\n",
    "#convertir los objetos en tipo int64"
   ]
  },
  {
   "cell_type": "code",
   "execution_count": 4,
   "metadata": {},
   "outputs": [
    {
     "name": "stdout",
     "output_type": "stream",
     "text": [
      "<class 'pandas.core.frame.DataFrame'>\n",
      "RangeIndex: 11055 entries, 0 to 11054\n",
      "Data columns (total 31 columns):\n",
      " #   Column                       Non-Null Count  Dtype \n",
      "---  ------                       --------------  ----- \n",
      " 0   having_IP_Address            11055 non-null  object\n",
      " 1   URL_Length                   11055 non-null  object\n",
      " 2   Shortining_Service           11055 non-null  object\n",
      " 3   having_At_Symbol             11055 non-null  object\n",
      " 4   double_slash_redirecting     11055 non-null  object\n",
      " 5   Prefix_Suffix                11055 non-null  object\n",
      " 6   having_Sub_Domain            11055 non-null  object\n",
      " 7   SSLfinal_State               11055 non-null  object\n",
      " 8   Domain_registeration_length  11055 non-null  object\n",
      " 9   Favicon                      11055 non-null  object\n",
      " 10  port                         11055 non-null  object\n",
      " 11  HTTPS_token                  11055 non-null  object\n",
      " 12  Request_URL                  11055 non-null  object\n",
      " 13  URL_of_Anchor                11055 non-null  object\n",
      " 14  Links_in_tags                11055 non-null  object\n",
      " 15  SFH                          11055 non-null  object\n",
      " 16  Submitting_to_email          11055 non-null  object\n",
      " 17  Abnormal_URL                 11055 non-null  object\n",
      " 18  Redirect                     11055 non-null  object\n",
      " 19  on_mouseover                 11055 non-null  object\n",
      " 20  RightClick                   11055 non-null  object\n",
      " 21  popUpWidnow                  11055 non-null  object\n",
      " 22  Iframe                       11055 non-null  object\n",
      " 23  age_of_domain                11055 non-null  object\n",
      " 24  DNSRecord                    11055 non-null  object\n",
      " 25  web_traffic                  11055 non-null  object\n",
      " 26  Page_Rank                    11055 non-null  object\n",
      " 27  Google_Index                 11055 non-null  object\n",
      " 28  Links_pointing_to_page       11055 non-null  object\n",
      " 29  Statistical_report           11055 non-null  object\n",
      " 30  Result                       11055 non-null  object\n",
      "dtypes: object(31)\n",
      "memory usage: 2.6+ MB\n"
     ]
    }
   ],
   "source": [
    "dataFramePhising.info()"
   ]
  },
  {
   "cell_type": "code",
   "execution_count": 5,
   "metadata": {},
   "outputs": [],
   "source": [
    "dataFramePhising_num = dataFramePhising.astype('int64')"
   ]
  },
  {
   "cell_type": "code",
   "execution_count": 6,
   "metadata": {},
   "outputs": [
    {
     "name": "stdout",
     "output_type": "stream",
     "text": [
      "<class 'pandas.core.frame.DataFrame'>\n",
      "RangeIndex: 11055 entries, 0 to 11054\n",
      "Data columns (total 31 columns):\n",
      " #   Column                       Non-Null Count  Dtype\n",
      "---  ------                       --------------  -----\n",
      " 0   having_IP_Address            11055 non-null  int64\n",
      " 1   URL_Length                   11055 non-null  int64\n",
      " 2   Shortining_Service           11055 non-null  int64\n",
      " 3   having_At_Symbol             11055 non-null  int64\n",
      " 4   double_slash_redirecting     11055 non-null  int64\n",
      " 5   Prefix_Suffix                11055 non-null  int64\n",
      " 6   having_Sub_Domain            11055 non-null  int64\n",
      " 7   SSLfinal_State               11055 non-null  int64\n",
      " 8   Domain_registeration_length  11055 non-null  int64\n",
      " 9   Favicon                      11055 non-null  int64\n",
      " 10  port                         11055 non-null  int64\n",
      " 11  HTTPS_token                  11055 non-null  int64\n",
      " 12  Request_URL                  11055 non-null  int64\n",
      " 13  URL_of_Anchor                11055 non-null  int64\n",
      " 14  Links_in_tags                11055 non-null  int64\n",
      " 15  SFH                          11055 non-null  int64\n",
      " 16  Submitting_to_email          11055 non-null  int64\n",
      " 17  Abnormal_URL                 11055 non-null  int64\n",
      " 18  Redirect                     11055 non-null  int64\n",
      " 19  on_mouseover                 11055 non-null  int64\n",
      " 20  RightClick                   11055 non-null  int64\n",
      " 21  popUpWidnow                  11055 non-null  int64\n",
      " 22  Iframe                       11055 non-null  int64\n",
      " 23  age_of_domain                11055 non-null  int64\n",
      " 24  DNSRecord                    11055 non-null  int64\n",
      " 25  web_traffic                  11055 non-null  int64\n",
      " 26  Page_Rank                    11055 non-null  int64\n",
      " 27  Google_Index                 11055 non-null  int64\n",
      " 28  Links_pointing_to_page       11055 non-null  int64\n",
      " 29  Statistical_report           11055 non-null  int64\n",
      " 30  Result                       11055 non-null  int64\n",
      "dtypes: int64(31)\n",
      "memory usage: 2.6 MB\n"
     ]
    },
    {
     "data": {
      "text/html": [
       "<div>\n",
       "<style scoped>\n",
       "    .dataframe tbody tr th:only-of-type {\n",
       "        vertical-align: middle;\n",
       "    }\n",
       "\n",
       "    .dataframe tbody tr th {\n",
       "        vertical-align: top;\n",
       "    }\n",
       "\n",
       "    .dataframe thead th {\n",
       "        text-align: right;\n",
       "    }\n",
       "</style>\n",
       "<table border=\"1\" class=\"dataframe\">\n",
       "  <thead>\n",
       "    <tr style=\"text-align: right;\">\n",
       "      <th></th>\n",
       "      <th>having_IP_Address</th>\n",
       "      <th>URL_Length</th>\n",
       "      <th>Shortining_Service</th>\n",
       "      <th>having_At_Symbol</th>\n",
       "      <th>double_slash_redirecting</th>\n",
       "      <th>Prefix_Suffix</th>\n",
       "      <th>having_Sub_Domain</th>\n",
       "      <th>SSLfinal_State</th>\n",
       "      <th>Domain_registeration_length</th>\n",
       "      <th>Favicon</th>\n",
       "      <th>...</th>\n",
       "      <th>popUpWidnow</th>\n",
       "      <th>Iframe</th>\n",
       "      <th>age_of_domain</th>\n",
       "      <th>DNSRecord</th>\n",
       "      <th>web_traffic</th>\n",
       "      <th>Page_Rank</th>\n",
       "      <th>Google_Index</th>\n",
       "      <th>Links_pointing_to_page</th>\n",
       "      <th>Statistical_report</th>\n",
       "      <th>Result</th>\n",
       "    </tr>\n",
       "  </thead>\n",
       "  <tbody>\n",
       "    <tr>\n",
       "      <th>0</th>\n",
       "      <td>-1</td>\n",
       "      <td>1</td>\n",
       "      <td>1</td>\n",
       "      <td>1</td>\n",
       "      <td>-1</td>\n",
       "      <td>-1</td>\n",
       "      <td>-1</td>\n",
       "      <td>-1</td>\n",
       "      <td>-1</td>\n",
       "      <td>1</td>\n",
       "      <td>...</td>\n",
       "      <td>1</td>\n",
       "      <td>1</td>\n",
       "      <td>-1</td>\n",
       "      <td>-1</td>\n",
       "      <td>-1</td>\n",
       "      <td>-1</td>\n",
       "      <td>1</td>\n",
       "      <td>1</td>\n",
       "      <td>-1</td>\n",
       "      <td>-1</td>\n",
       "    </tr>\n",
       "    <tr>\n",
       "      <th>1</th>\n",
       "      <td>1</td>\n",
       "      <td>1</td>\n",
       "      <td>1</td>\n",
       "      <td>1</td>\n",
       "      <td>1</td>\n",
       "      <td>-1</td>\n",
       "      <td>0</td>\n",
       "      <td>1</td>\n",
       "      <td>-1</td>\n",
       "      <td>1</td>\n",
       "      <td>...</td>\n",
       "      <td>1</td>\n",
       "      <td>1</td>\n",
       "      <td>-1</td>\n",
       "      <td>-1</td>\n",
       "      <td>0</td>\n",
       "      <td>-1</td>\n",
       "      <td>1</td>\n",
       "      <td>1</td>\n",
       "      <td>1</td>\n",
       "      <td>-1</td>\n",
       "    </tr>\n",
       "    <tr>\n",
       "      <th>2</th>\n",
       "      <td>1</td>\n",
       "      <td>0</td>\n",
       "      <td>1</td>\n",
       "      <td>1</td>\n",
       "      <td>1</td>\n",
       "      <td>-1</td>\n",
       "      <td>-1</td>\n",
       "      <td>-1</td>\n",
       "      <td>-1</td>\n",
       "      <td>1</td>\n",
       "      <td>...</td>\n",
       "      <td>1</td>\n",
       "      <td>1</td>\n",
       "      <td>1</td>\n",
       "      <td>-1</td>\n",
       "      <td>1</td>\n",
       "      <td>-1</td>\n",
       "      <td>1</td>\n",
       "      <td>0</td>\n",
       "      <td>-1</td>\n",
       "      <td>-1</td>\n",
       "    </tr>\n",
       "    <tr>\n",
       "      <th>3</th>\n",
       "      <td>1</td>\n",
       "      <td>0</td>\n",
       "      <td>1</td>\n",
       "      <td>1</td>\n",
       "      <td>1</td>\n",
       "      <td>-1</td>\n",
       "      <td>-1</td>\n",
       "      <td>-1</td>\n",
       "      <td>1</td>\n",
       "      <td>1</td>\n",
       "      <td>...</td>\n",
       "      <td>1</td>\n",
       "      <td>1</td>\n",
       "      <td>-1</td>\n",
       "      <td>-1</td>\n",
       "      <td>1</td>\n",
       "      <td>-1</td>\n",
       "      <td>1</td>\n",
       "      <td>-1</td>\n",
       "      <td>1</td>\n",
       "      <td>-1</td>\n",
       "    </tr>\n",
       "    <tr>\n",
       "      <th>4</th>\n",
       "      <td>1</td>\n",
       "      <td>0</td>\n",
       "      <td>-1</td>\n",
       "      <td>1</td>\n",
       "      <td>1</td>\n",
       "      <td>-1</td>\n",
       "      <td>1</td>\n",
       "      <td>1</td>\n",
       "      <td>-1</td>\n",
       "      <td>1</td>\n",
       "      <td>...</td>\n",
       "      <td>-1</td>\n",
       "      <td>1</td>\n",
       "      <td>-1</td>\n",
       "      <td>-1</td>\n",
       "      <td>0</td>\n",
       "      <td>-1</td>\n",
       "      <td>1</td>\n",
       "      <td>1</td>\n",
       "      <td>1</td>\n",
       "      <td>1</td>\n",
       "    </tr>\n",
       "  </tbody>\n",
       "</table>\n",
       "<p>5 rows × 31 columns</p>\n",
       "</div>"
      ],
      "text/plain": [
       "   having_IP_Address  URL_Length  Shortining_Service  having_At_Symbol  \\\n",
       "0                 -1           1                   1                 1   \n",
       "1                  1           1                   1                 1   \n",
       "2                  1           0                   1                 1   \n",
       "3                  1           0                   1                 1   \n",
       "4                  1           0                  -1                 1   \n",
       "\n",
       "   double_slash_redirecting  Prefix_Suffix  having_Sub_Domain  SSLfinal_State  \\\n",
       "0                        -1             -1                 -1              -1   \n",
       "1                         1             -1                  0               1   \n",
       "2                         1             -1                 -1              -1   \n",
       "3                         1             -1                 -1              -1   \n",
       "4                         1             -1                  1               1   \n",
       "\n",
       "   Domain_registeration_length  Favicon  ...  popUpWidnow  Iframe  \\\n",
       "0                           -1        1  ...            1       1   \n",
       "1                           -1        1  ...            1       1   \n",
       "2                           -1        1  ...            1       1   \n",
       "3                            1        1  ...            1       1   \n",
       "4                           -1        1  ...           -1       1   \n",
       "\n",
       "   age_of_domain  DNSRecord  web_traffic  Page_Rank  Google_Index  \\\n",
       "0             -1         -1           -1         -1             1   \n",
       "1             -1         -1            0         -1             1   \n",
       "2              1         -1            1         -1             1   \n",
       "3             -1         -1            1         -1             1   \n",
       "4             -1         -1            0         -1             1   \n",
       "\n",
       "   Links_pointing_to_page  Statistical_report  Result  \n",
       "0                       1                  -1      -1  \n",
       "1                       1                   1      -1  \n",
       "2                       0                  -1      -1  \n",
       "3                      -1                   1      -1  \n",
       "4                       1                   1       1  \n",
       "\n",
       "[5 rows x 31 columns]"
      ]
     },
     "execution_count": 6,
     "metadata": {},
     "output_type": "execute_result"
    }
   ],
   "source": [
    "dataFramePhising_num.info()\n",
    "dataFramePhising_num.head()"
   ]
  },
  {
   "cell_type": "code",
   "execution_count": 7,
   "metadata": {},
   "outputs": [
    {
     "name": "stdout",
     "output_type": "stream",
     "text": [
      "       having_IP_Address  URL_Length  Shortining_Service  having_At_Symbol  \\\n",
      "0                     -1           1                   1                 1   \n",
      "1                      1           1                   1                 1   \n",
      "2                      1           0                   1                 1   \n",
      "3                      1           0                   1                 1   \n",
      "4                      1           0                  -1                 1   \n",
      "...                  ...         ...                 ...               ...   \n",
      "11050                  1          -1                   1                -1   \n",
      "11051                 -1           1                   1                -1   \n",
      "11052                  1          -1                   1                 1   \n",
      "11053                 -1          -1                   1                 1   \n",
      "11054                 -1          -1                   1                 1   \n",
      "\n",
      "       double_slash_redirecting  Prefix_Suffix  having_Sub_Domain  \\\n",
      "0                            -1             -1                 -1   \n",
      "1                             1             -1                  0   \n",
      "2                             1             -1                 -1   \n",
      "3                             1             -1                 -1   \n",
      "4                             1             -1                  1   \n",
      "...                         ...            ...                ...   \n",
      "11050                         1              1                  1   \n",
      "11051                        -1             -1                  1   \n",
      "11052                         1             -1                  1   \n",
      "11053                         1             -1                 -1   \n",
      "11054                         1             -1                 -1   \n",
      "\n",
      "       SSLfinal_State  Domain_registeration_length  Favicon  ...  popUpWidnow  \\\n",
      "0                  -1                           -1        1  ...            1   \n",
      "1                   1                           -1        1  ...            1   \n",
      "2                  -1                           -1        1  ...            1   \n",
      "3                  -1                            1        1  ...            1   \n",
      "4                   1                           -1        1  ...           -1   \n",
      "...               ...                          ...      ...  ...          ...   \n",
      "11050               1                           -1       -1  ...           -1   \n",
      "11051              -1                           -1       -1  ...           -1   \n",
      "11052              -1                           -1        1  ...            1   \n",
      "11053              -1                            1       -1  ...           -1   \n",
      "11054              -1                            1        1  ...            1   \n",
      "\n",
      "       Iframe  age_of_domain  DNSRecord  web_traffic  Page_Rank  Google_Index  \\\n",
      "0           1             -1         -1           -1         -1             1   \n",
      "1           1             -1         -1            0         -1             1   \n",
      "2           1              1         -1            1         -1             1   \n",
      "3           1             -1         -1            1         -1             1   \n",
      "4           1             -1         -1            0         -1             1   \n",
      "...       ...            ...        ...          ...        ...           ...   \n",
      "11050      -1              1          1           -1         -1             1   \n",
      "11051       1              1          1            1          1             1   \n",
      "11052       1              1          1            1         -1             1   \n",
      "11053       1              1          1            1         -1             1   \n",
      "11054       1             -1          1           -1         -1            -1   \n",
      "\n",
      "       Links_pointing_to_page  Statistical_report  Result  \n",
      "0                           1                  -1      -1  \n",
      "1                           1                   1      -1  \n",
      "2                           0                  -1      -1  \n",
      "3                          -1                   1      -1  \n",
      "4                           1                   1       1  \n",
      "...                       ...                 ...     ...  \n",
      "11050                       1                   1       1  \n",
      "11051                      -1                   1      -1  \n",
      "11052                       0                   1      -1  \n",
      "11053                       1                   1      -1  \n",
      "11054                       1                  -1      -1  \n",
      "\n",
      "[11055 rows x 31 columns]\n"
     ]
    }
   ],
   "source": [
    "print(dataFramePhising_num)"
   ]
  },
  {
   "cell_type": "code",
   "execution_count": 8,
   "metadata": {},
   "outputs": [],
   "source": [
    "import numpy as np\n",
    "def split_train_test(data, test_ratio):\n",
    "    shuffled_indices = np.random.permutation(len(data))\n",
    "    test_set_size = int(len(data)*test_ratio)\n",
    "    test_indices = shuffled_indices[:test_set_size]\n",
    "    train_indices = shuffled_indices[test_set_size:]\n",
    "    return data.iloc[train_indices],data.iloc[test_indices]"
   ]
  },
  {
   "cell_type": "code",
   "execution_count": 9,
   "metadata": {},
   "outputs": [
    {
     "name": "stdout",
     "output_type": "stream",
     "text": [
      "8844\n",
      "2211\n"
     ]
    }
   ],
   "source": [
    "train_set, test_set = split_train_test(dataFramePhising_num,0.2)\n",
    "print(len(train_set))\n",
    "print(len(test_set))"
   ]
  },
  {
   "cell_type": "code",
   "execution_count": 10,
   "metadata": {},
   "outputs": [
    {
     "data": {
      "text/plain": [
       "<Axes: >"
      ]
     },
     "execution_count": 10,
     "metadata": {},
     "output_type": "execute_result"
    },
    {
     "data": {
      "image/png": "[encoded data removed]",
      "text/plain": [
       "<Figure size 640x480 with 1 Axes>"
      ]
     },
     "metadata": {},
     "output_type": "display_data"
    }
   ],
   "source": [
    "dataFramePhising_num[\"URL_Length\"].hist()"
   ]
  },
  {
   "cell_type": "code",
   "execution_count": 11,
   "metadata": {},
   "outputs": [
    {
     "data": {
      "text/plain": [
       "<Axes: >"
      ]
     },
     "execution_count": 11,
     "metadata": {},
     "output_type": "execute_result"
    },
    {
     "data": {
      "image/png": "[encoded data removed]",
      "text/plain": [
       "<Figure size 640x480 with 1 Axes>"
      ]
     },
     "metadata": {},
     "output_type": "display_data"
    }
   ],
   "source": [
    "dataFramePhising_num[\"Result\"].hist()"
   ]
  },
  {
   "cell_type": "code",
   "execution_count": 12,
   "metadata": {},
   "outputs": [],
   "source": [
    "from sklearn.model_selection import StratifiedShuffleSplit\n",
    "split = StratifiedShuffleSplit(n_splits=1,test_size=0.2,random_state=42)\n",
    "for train_set, test_set in split.split(dataFramePhising_num,dataFramePhising_num[\"Result\"]):\n",
    "    strat_train_set = dataFramePhising_num.loc[train_set]\n",
    "    strat_test_set = dataFramePhising_num.loc[test_set]"
   ]
  },
  {
   "cell_type": "code",
   "execution_count": 13,
   "metadata": {},
   "outputs": [],
   "source": [
    "phishing = strat_test_set.copy()"
   ]
  },
  {
   "cell_type": "code",
   "execution_count": 14,
   "metadata": {},
   "outputs": [
    {
     "name": "stdout",
     "output_type": "stream",
     "text": [
      "<class 'pandas.core.frame.DataFrame'>\n",
      "Int64Index: 2211 entries, 6461 to 513\n",
      "Data columns (total 31 columns):\n",
      " #   Column                       Non-Null Count  Dtype\n",
      "---  ------                       --------------  -----\n",
      " 0   having_IP_Address            2211 non-null   int64\n",
      " 1   URL_Length                   2211 non-null   int64\n",
      " 2   Shortining_Service           2211 non-null   int64\n",
      " 3   having_At_Symbol             2211 non-null   int64\n",
      " 4   double_slash_redirecting     2211 non-null   int64\n",
      " 5   Prefix_Suffix                2211 non-null   int64\n",
      " 6   having_Sub_Domain            2211 non-null   int64\n",
      " 7   SSLfinal_State               2211 non-null   int64\n",
      " 8   Domain_registeration_length  2211 non-null   int64\n",
      " 9   Favicon                      2211 non-null   int64\n",
      " 10  port                         2211 non-null   int64\n",
      " 11  HTTPS_token                  2211 non-null   int64\n",
      " 12  Request_URL                  2211 non-null   int64\n",
      " 13  URL_of_Anchor                2211 non-null   int64\n",
      " 14  Links_in_tags                2211 non-null   int64\n",
      " 15  SFH                          2211 non-null   int64\n",
      " 16  Submitting_to_email          2211 non-null   int64\n",
      " 17  Abnormal_URL                 2211 non-null   int64\n",
      " 18  Redirect                     2211 non-null   int64\n",
      " 19  on_mouseover                 2211 non-null   int64\n",
      " 20  RightClick                   2211 non-null   int64\n",
      " 21  popUpWidnow                  2211 non-null   int64\n",
      " 22  Iframe                       2211 non-null   int64\n",
      " 23  age_of_domain                2211 non-null   int64\n",
      " 24  DNSRecord                    2211 non-null   int64\n",
      " 25  web_traffic                  2211 non-null   int64\n",
      " 26  Page_Rank                    2211 non-null   int64\n",
      " 27  Google_Index                 2211 non-null   int64\n",
      " 28  Links_pointing_to_page       2211 non-null   int64\n",
      " 29  Statistical_report           2211 non-null   int64\n",
      " 30  Result                       2211 non-null   int64\n",
      "dtypes: int64(31)\n",
      "memory usage: 552.8 KB\n"
     ]
    }
   ],
   "source": [
    "phishing.info()"
   ]
  },
  {
   "cell_type": "code",
   "execution_count": 15,
   "metadata": {},
   "outputs": [
    {
     "data": {
      "text/plain": [
       "Result                         1.000000\n",
       "SSLfinal_State                 0.714661\n",
       "URL_of_Anchor                  0.687530\n",
       "Prefix_Suffix                  0.348733\n",
       "web_traffic                    0.347616\n",
       "having_Sub_Domain              0.287992\n",
       "Request_URL                    0.267138\n",
       "Links_in_tags                  0.256948\n",
       "SFH                            0.228708\n",
       "Google_Index                   0.154145\n",
       "having_IP_Address              0.121295\n",
       "age_of_domain                  0.114094\n",
       "Page_Rank                      0.084904\n",
       "Statistical_report             0.069307\n",
       "URL_Length                     0.063768\n",
       "Links_pointing_to_page         0.058987\n",
       "having_At_Symbol               0.037639\n",
       "DNSRecord                      0.032649\n",
       "on_mouseover                   0.029744\n",
       "port                           0.010710\n",
       "Submitting_to_email            0.009512\n",
       "RightClick                     0.001012\n",
       "Iframe                        -0.010194\n",
       "Redirect                      -0.010906\n",
       "Favicon                       -0.026527\n",
       "popUpWidnow                   -0.029702\n",
       "HTTPS_token                   -0.049041\n",
       "double_slash_redirecting      -0.069465\n",
       "Shortining_Service            -0.075438\n",
       "Abnormal_URL                  -0.086073\n",
       "Domain_registeration_length   -0.243942\n",
       "Name: Result, dtype: float64"
      ]
     },
     "execution_count": 15,
     "metadata": {},
     "output_type": "execute_result"
    }
   ],
   "source": [
    "corr_matrix = phishing.corr()\n",
    "corr_matrix[\"Result\"].sort_values(ascending = False)"
   ]
  },
  {
   "cell_type": "code",
   "execution_count": 16,
   "metadata": {},
   "outputs": [
    {
     "name": "stdout",
     "output_type": "stream",
     "text": [
      "8844\n",
      "8844\n",
      "<class 'pandas.core.frame.DataFrame'>\n",
      "<class 'pandas.core.series.Series'>\n"
     ]
    }
   ],
   "source": [
    "phishing = strat_train_set.drop(\"Result\",axis=1)\n",
    "phishing_lables = strat_train_set[\"Result\"].copy()\n",
    "print(len(phishing))\n",
    "print(len(phishing_lables))\n",
    "print(type(phishing))\n",
    "print(type(phishing_lables))"
   ]
  },
  {
   "cell_type": "code",
   "execution_count": 17,
   "metadata": {},
   "outputs": [
    {
     "data": {
      "text/plain": [
       "having_IP_Address              0\n",
       "URL_Length                     0\n",
       "Shortining_Service             0\n",
       "having_At_Symbol               0\n",
       "double_slash_redirecting       0\n",
       "Prefix_Suffix                  0\n",
       "having_Sub_Domain              0\n",
       "SSLfinal_State                 0\n",
       "Domain_registeration_length    0\n",
       "Favicon                        0\n",
       "port                           0\n",
       "HTTPS_token                    0\n",
       "Request_URL                    0\n",
       "URL_of_Anchor                  0\n",
       "Links_in_tags                  0\n",
       "SFH                            0\n",
       "Submitting_to_email            0\n",
       "Abnormal_URL                   0\n",
       "Redirect                       0\n",
       "on_mouseover                   0\n",
       "RightClick                     0\n",
       "popUpWidnow                    0\n",
       "Iframe                         0\n",
       "age_of_domain                  0\n",
       "DNSRecord                      0\n",
       "web_traffic                    0\n",
       "Page_Rank                      0\n",
       "Google_Index                   0\n",
       "Links_pointing_to_page         0\n",
       "Statistical_report             0\n",
       "Result                         0\n",
       "dtype: int64"
      ]
     },
     "execution_count": 17,
     "metadata": {},
     "output_type": "execute_result"
    }
   ],
   "source": [
    "dataFramePhising_num.isna().sum()"
   ]
  },
  {
   "cell_type": "code",
   "execution_count": 18,
   "metadata": {},
   "outputs": [
    {
     "name": "stdout",
     "output_type": "stream",
     "text": [
      "<class 'pandas.core.series.Series'>\n",
      "Int64Index: 8844 entries, 1758 to 9945\n",
      "Series name: Result\n",
      "Non-Null Count  Dtype\n",
      "--------------  -----\n",
      "8844 non-null   int64\n",
      "dtypes: int64(1)\n",
      "memory usage: 138.2 KB\n"
     ]
    }
   ],
   "source": [
    "\n",
    "phishing_lables.info()"
   ]
  },
  {
   "cell_type": "code",
   "execution_count": 19,
   "metadata": {},
   "outputs": [],
   "source": [
    "from sklearn.pipeline import Pipeline, FeatureUnion\n",
    "from sklearn.preprocessing import StandardScaler\n",
    "from sklearn.decomposition import PCA\n",
    "from sklearn.svm import SVC\n",
    "from sklearn.ensemble import RandomForestClassifier, ExtraTreesClassifier\n",
    "\n",
    "phishing_svc = SVC()\n",
    "phishing_forest = RandomForestClassifier()\n",
    "phishing_extra_trees = ExtraTreesClassifier()\n",
    "\n",
    "\n",
    "num_attribs = list(dataFramePhising_num)\n",
    "\n",
    "full_pipeline_svm = Pipeline([\n",
    "    ('scaler',StandardScaler()),\n",
    "    ('phishing_svc',phishing_svc)\n",
    "])\n",
    "\n",
    "full_pipeline_trees = Pipeline([\n",
    "    ('pca',PCA()),\n",
    "    ('phishing_forest',phishing_forest)\n",
    "])\n",
    "\n",
    "\n"
   ]
  },
  {
   "cell_type": "code",
   "execution_count": 20,
   "metadata": {},
   "outputs": [
    {
     "data": {
      "text/html": [
       "<style>#sk-container-id-1 {color: black;background-color: white;}#sk-container-id-1 pre{padding: 0;}#sk-container-id-1 div.sk-toggleable {background-color: white;}#sk-container-id-1 label.sk-toggleable__label {cursor: pointer;display: block;width: 100%;margin-bottom: 0;padding: 0.3em;box-sizing: border-box;text-align: center;}#sk-container-id-1 label.sk-toggleable__label-arrow:before {content: \"▸\";float: left;margin-right: 0.25em;color: #696969;}#sk-container-id-1 label.sk-toggleable__label-arrow:hover:before {color: black;}#sk-container-id-1 div.sk-estimator:hover label.sk-toggleable__label-arrow:before {color: black;}#sk-container-id-1 div.sk-toggleable__content {max-height: 0;max-width: 0;overflow: hidden;text-align: left;background-color: #f0f8ff;}#sk-container-id-1 div.sk-toggleable__content pre {margin: 0.2em;color: black;border-radius: 0.25em;background-color: #f0f8ff;}#sk-container-id-1 input.sk-toggleable__control:checked~div.sk-toggleable__content {max-height: 200px;max-width: 100%;overflow: auto;}#sk-container-id-1 input.sk-toggleable__control:checked~label.sk-toggleable__label-arrow:before {content: \"▾\";}#sk-container-id-1 div.sk-estimator input.sk-toggleable__control:checked~label.sk-toggleable__label {background-color: #d4ebff;}#sk-container-id-1 div.sk-label input.sk-toggleable__control:checked~label.sk-toggleable__label {background-color: #d4ebff;}#sk-container-id-1 input.sk-hidden--visually {border: 0;clip: rect(1px 1px 1px 1px);clip: rect(1px, 1px, 1px, 1px);height: 1px;margin: -1px;overflow: hidden;padding: 0;position: absolute;width: 1px;}#sk-container-id-1 div.sk-estimator {font-family: monospace;background-color: #f0f8ff;border: 1px dotted black;border-radius: 0.25em;box-sizing: border-box;margin-bottom: 0.5em;}#sk-container-id-1 div.sk-estimator:hover {background-color: #d4ebff;}#sk-container-id-1 div.sk-parallel-item::after {content: \"\";width: 100%;border-bottom: 1px solid gray;flex-grow: 1;}#sk-container-id-1 div.sk-label:hover label.sk-toggleable__label {background-color: #d4ebff;}#sk-container-id-1 div.sk-serial::before {content: \"\";position: absolute;border-left: 1px solid gray;box-sizing: border-box;top: 0;bottom: 0;left: 50%;z-index: 0;}#sk-container-id-1 div.sk-serial {display: flex;flex-direction: column;align-items: center;background-color: white;padding-right: 0.2em;padding-left: 0.2em;position: relative;}#sk-container-id-1 div.sk-item {position: relative;z-index: 1;}#sk-container-id-1 div.sk-parallel {display: flex;align-items: stretch;justify-content: center;background-color: white;position: relative;}#sk-container-id-1 div.sk-item::before, #sk-container-id-1 div.sk-parallel-item::before {content: \"\";position: absolute;border-left: 1px solid gray;box-sizing: border-box;top: 0;bottom: 0;left: 50%;z-index: -1;}#sk-container-id-1 div.sk-parallel-item {display: flex;flex-direction: column;z-index: 1;position: relative;background-color: white;}#sk-container-id-1 div.sk-parallel-item:first-child::after {align-self: flex-end;width: 50%;}#sk-container-id-1 div.sk-parallel-item:last-child::after {align-self: flex-start;width: 50%;}#sk-container-id-1 div.sk-parallel-item:only-child::after {width: 0;}#sk-container-id-1 div.sk-dashed-wrapped {border: 1px dashed gray;margin: 0 0.4em 0.5em 0.4em;box-sizing: border-box;padding-bottom: 0.4em;background-color: white;}#sk-container-id-1 div.sk-label label {font-family: monospace;font-weight: bold;display: inline-block;line-height: 1.2em;}#sk-container-id-1 div.sk-label-container {text-align: center;}#sk-container-id-1 div.sk-container {/* jupyter's `normalize.less` sets `[hidden] { display: none; }` but bootstrap.min.css set `[hidden] { display: none !important; }` so we also need the `!important` here to be able to override the default hidden behavior on the sphinx rendered scikit-learn.org. See: https://github.com/scikit-learn/scikit-learn/issues/21755 */display: inline-block !important;position: relative;}#sk-container-id-1 div.sk-text-repr-fallback {display: none;}</style><div id=\"sk-container-id-1\" class=\"sk-top-container\"><div class=\"sk-text-repr-fallback\"><pre>ExtraTreesClassifier()</pre><b>In a Jupyter environment, please rerun this cell to show the HTML representation or trust the notebook. <br />On GitHub, the HTML representation is unable to render, please try loading this page with nbviewer.org.</b></div><div class=\"sk-container\" hidden><div class=\"sk-item\"><div class=\"sk-estimator sk-toggleable\"><input class=\"sk-toggleable__control sk-hidden--visually\" id=\"sk-estimator-id-1\" type=\"checkbox\" checked><label for=\"sk-estimator-id-1\" class=\"sk-toggleable__label sk-toggleable__label-arrow\">ExtraTreesClassifier</label><div class=\"sk-toggleable__content\"><pre>ExtraTreesClassifier()</pre></div></div></div></div></div>"
      ],
      "text/plain": [
       "ExtraTreesClassifier()"
      ]
     },
     "execution_count": 20,
     "metadata": {},
     "output_type": "execute_result"
    }
   ],
   "source": [
    "phishing_svc.fit(phishing,phishing_lables)\n",
    "phishing_forest.fit(phishing,phishing_lables)\n",
    "phishing_extra_trees.fit(phishing,phishing_lables)"
   ]
  },
  {
   "cell_type": "code",
   "execution_count": 21,
   "metadata": {},
   "outputs": [
    {
     "name": "stdout",
     "output_type": "stream",
     "text": [
      "0.4342838269309434\n"
     ]
    }
   ],
   "source": [
    "from sklearn.metrics import mean_squared_error\n",
    "\n",
    "\n",
    "phishing_predictions = phishing_svc.predict(phishing)\n",
    "svc_mse = mean_squared_error(phishing_lables, phishing_predictions)\n",
    "svc_rmse = np.sqrt(svc_mse)\n",
    "print(svc_rmse)"
   ]
  },
  {
   "cell_type": "code",
   "execution_count": 22,
   "metadata": {},
   "outputs": [
    {
     "name": "stdout",
     "output_type": "stream",
     "text": [
      "0.19836509519192644\n"
     ]
    }
   ],
   "source": [
    "phishing_predictions = phishing_forest.predict(phishing)\n",
    "forest_mse = mean_squared_error(phishing_lables, phishing_predictions)\n",
    "forest_rmse = np.sqrt(forest_mse)\n",
    "print(forest_rmse)"
   ]
  },
  {
   "cell_type": "code",
   "execution_count": 23,
   "metadata": {},
   "outputs": [
    {
     "name": "stdout",
     "output_type": "stream",
     "text": [
      "0.19836509519192644\n"
     ]
    }
   ],
   "source": [
    "phishing_predictions = phishing_extra_trees.predict(phishing)\n",
    "extra_trees_mse = mean_squared_error(phishing_lables, phishing_predictions)\n",
    "extra_trees_rmse = np.sqrt(extra_trees_mse)\n",
    "print(extra_trees_rmse)"
   ]
  },
  {
   "cell_type": "code",
   "execution_count": 24,
   "metadata": {},
   "outputs": [],
   "source": [
    "def printScores(scores):\n",
    "    print(\"Scores: \",scores)\n",
    "    print(\"Mean: \",scores.mean())\n",
    "    print(\"Standard deviation: \",scores.std())\n",
    "    "
   ]
  },
  {
   "cell_type": "code",
   "execution_count": 25,
   "metadata": {},
   "outputs": [
    {
     "name": "stdout",
     "output_type": "stream",
     "text": [
      "Scores:  [0.46090062 0.41442902 0.48943643 0.45098762 0.50338223 0.48038446\n",
      " 0.45124263 0.4988675  0.46604138 0.42543563]\n",
      "Mean:  0.46411075102750415\n",
      "Standard deviation:  0.028235404785362486\n"
     ]
    }
   ],
   "source": [
    "from sklearn.model_selection import cross_val_score\n",
    "\n",
    "scores = cross_val_score(phishing_svc,phishing,phishing_lables,scoring=\"neg_mean_squared_error\",cv=10)\n",
    "svm_scores = np.sqrt(-scores)\n",
    "printScores(svm_scores)"
   ]
  },
  {
   "cell_type": "code",
   "execution_count": 26,
   "metadata": {},
   "outputs": [
    {
     "name": "stdout",
     "output_type": "stream",
     "text": [
      "Scores:  [0.32935479 0.26891706 0.34933351 0.32935479 0.35594499 0.3805212\n",
      " 0.32954102 0.32954102 0.3082574  0.30082842]\n",
      "Mean:  0.3281594182447165\n",
      "Standard deviation:  0.0293624624265765\n"
     ]
    }
   ],
   "source": [
    "\n",
    "scores = cross_val_score(phishing_forest,phishing,phishing_lables,scoring=\"neg_mean_squared_error\",cv=10)\n",
    "forest_scores = np.sqrt(-scores)\n",
    "printScores(forest_scores)"
   ]
  },
  {
   "cell_type": "code",
   "execution_count": 27,
   "metadata": {},
   "outputs": [
    {
     "name": "stdout",
     "output_type": "stream",
     "text": [
      "Scores:  [0.34933351 0.24239856 0.34933351 0.32242023 0.34299717 0.37452836\n",
      " 0.31551151 0.3363364  0.30082842 0.30082842]\n",
      "Mean:  0.32345160717342686\n",
      "Standard deviation:  0.034862515103561476\n"
     ]
    }
   ],
   "source": [
    "scores = cross_val_score(phishing_extra_trees,phishing,phishing_lables,scoring=\"neg_mean_squared_error\",cv=10)\n",
    "extra_trees_scores = np.sqrt(-scores)\n",
    "printScores(extra_trees_scores)"
   ]
  },
  {
   "attachments": {},
   "cell_type": "markdown",
   "metadata": {},
   "source": [
    "SVM"
   ]
  },
  {
   "cell_type": "code",
   "execution_count": 28,
   "metadata": {},
   "outputs": [
    {
     "name": "stdout",
     "output_type": "stream",
     "text": [
      "Fitting 5 folds for each of 10 candidates, totalling 50 fits\n"
     ]
    },
    {
     "data": {
      "text/html": [
       "<style>#sk-container-id-2 {color: black;background-color: white;}#sk-container-id-2 pre{padding: 0;}#sk-container-id-2 div.sk-toggleable {background-color: white;}#sk-container-id-2 label.sk-toggleable__label {cursor: pointer;display: block;width: 100%;margin-bottom: 0;padding: 0.3em;box-sizing: border-box;text-align: center;}#sk-container-id-2 label.sk-toggleable__label-arrow:before {content: \"▸\";float: left;margin-right: 0.25em;color: #696969;}#sk-container-id-2 label.sk-toggleable__label-arrow:hover:before {color: black;}#sk-container-id-2 div.sk-estimator:hover label.sk-toggleable__label-arrow:before {color: black;}#sk-container-id-2 div.sk-toggleable__content {max-height: 0;max-width: 0;overflow: hidden;text-align: left;background-color: #f0f8ff;}#sk-container-id-2 div.sk-toggleable__content pre {margin: 0.2em;color: black;border-radius: 0.25em;background-color: #f0f8ff;}#sk-container-id-2 input.sk-toggleable__control:checked~div.sk-toggleable__content {max-height: 200px;max-width: 100%;overflow: auto;}#sk-container-id-2 input.sk-toggleable__control:checked~label.sk-toggleable__label-arrow:before {content: \"▾\";}#sk-container-id-2 div.sk-estimator input.sk-toggleable__control:checked~label.sk-toggleable__label {background-color: #d4ebff;}#sk-container-id-2 div.sk-label input.sk-toggleable__control:checked~label.sk-toggleable__label {background-color: #d4ebff;}#sk-container-id-2 input.sk-hidden--visually {border: 0;clip: rect(1px 1px 1px 1px);clip: rect(1px, 1px, 1px, 1px);height: 1px;margin: -1px;overflow: hidden;padding: 0;position: absolute;width: 1px;}#sk-container-id-2 div.sk-estimator {font-family: monospace;background-color: #f0f8ff;border: 1px dotted black;border-radius: 0.25em;box-sizing: border-box;margin-bottom: 0.5em;}#sk-container-id-2 div.sk-estimator:hover {background-color: #d4ebff;}#sk-container-id-2 div.sk-parallel-item::after {content: \"\";width: 100%;border-bottom: 1px solid gray;flex-grow: 1;}#sk-container-id-2 div.sk-label:hover label.sk-toggleable__label {background-color: #d4ebff;}#sk-container-id-2 div.sk-serial::before {content: \"\";position: absolute;border-left: 1px solid gray;box-sizing: border-box;top: 0;bottom: 0;left: 50%;z-index: 0;}#sk-container-id-2 div.sk-serial {display: flex;flex-direction: column;align-items: center;background-color: white;padding-right: 0.2em;padding-left: 0.2em;position: relative;}#sk-container-id-2 div.sk-item {position: relative;z-index: 1;}#sk-container-id-2 div.sk-parallel {display: flex;align-items: stretch;justify-content: center;background-color: white;position: relative;}#sk-container-id-2 div.sk-item::before, #sk-container-id-2 div.sk-parallel-item::before {content: \"\";position: absolute;border-left: 1px solid gray;box-sizing: border-box;top: 0;bottom: 0;left: 50%;z-index: -1;}#sk-container-id-2 div.sk-parallel-item {display: flex;flex-direction: column;z-index: 1;position: relative;background-color: white;}#sk-container-id-2 div.sk-parallel-item:first-child::after {align-self: flex-end;width: 50%;}#sk-container-id-2 div.sk-parallel-item:last-child::after {align-self: flex-start;width: 50%;}#sk-container-id-2 div.sk-parallel-item:only-child::after {width: 0;}#sk-container-id-2 div.sk-dashed-wrapped {border: 1px dashed gray;margin: 0 0.4em 0.5em 0.4em;box-sizing: border-box;padding-bottom: 0.4em;background-color: white;}#sk-container-id-2 div.sk-label label {font-family: monospace;font-weight: bold;display: inline-block;line-height: 1.2em;}#sk-container-id-2 div.sk-label-container {text-align: center;}#sk-container-id-2 div.sk-container {/* jupyter's `normalize.less` sets `[hidden] { display: none; }` but bootstrap.min.css set `[hidden] { display: none !important; }` so we also need the `!important` here to be able to override the default hidden behavior on the sphinx rendered scikit-learn.org. See: https://github.com/scikit-learn/scikit-learn/issues/21755 */display: inline-block !important;position: relative;}#sk-container-id-2 div.sk-text-repr-fallback {display: none;}</style><div id=\"sk-container-id-2\" class=\"sk-top-container\"><div class=\"sk-text-repr-fallback\"><pre>RandomizedSearchCV(cv=5,\n",
       "                   estimator=Pipeline(steps=[(&#x27;scaler&#x27;, StandardScaler()),\n",
       "                                             (&#x27;phishing_svc&#x27;, SVC())]),\n",
       "                   n_jobs=-1,\n",
       "                   param_distributions=[{&#x27;phishing_svc__C&#x27;: [0.1, 1, 10, 100,\n",
       "                                                             1000],\n",
       "                                         &#x27;phishing_svc__kernel&#x27;: [&#x27;linear&#x27;],\n",
       "                                         &#x27;phishing_svc__probability&#x27;: [True]},\n",
       "                                        {&#x27;phishing_svc__C&#x27;: [0.1, 1, 10, 100,\n",
       "                                                             1000],\n",
       "                                         &#x27;phishing_svc__gamma&#x27;: [0.001, 0.0001],\n",
       "                                         &#x27;phishing_svc__kernel&#x27;: [&#x27;rbf&#x27;],\n",
       "                                         &#x27;phishing_svc__probability&#x27;: [True]},\n",
       "                                        {&#x27;phishing_svc__C&#x27;: [0.1, 1, 10, 100,\n",
       "                                                             1000],\n",
       "                                         &#x27;phishing_svc__degree&#x27;: [2, 3],\n",
       "                                         &#x27;phishing_svc__gamma&#x27;: [0.001, 0.0001],\n",
       "                                         &#x27;phishing_svc__kernel&#x27;: [&#x27;poly&#x27;],\n",
       "                                         &#x27;phishing_svc__probability&#x27;: [True]}],\n",
       "                   random_state=42, scoring=&#x27;accuracy&#x27;, verbose=True)</pre><b>In a Jupyter environment, please rerun this cell to show the HTML representation or trust the notebook. <br />On GitHub, the HTML representation is unable to render, please try loading this page with nbviewer.org.</b></div><div class=\"sk-container\" hidden><div class=\"sk-item sk-dashed-wrapped\"><div class=\"sk-label-container\"><div class=\"sk-label sk-toggleable\"><input class=\"sk-toggleable__control sk-hidden--visually\" id=\"sk-estimator-id-2\" type=\"checkbox\" ><label for=\"sk-estimator-id-2\" class=\"sk-toggleable__label sk-toggleable__label-arrow\">RandomizedSearchCV</label><div class=\"sk-toggleable__content\"><pre>RandomizedSearchCV(cv=5,\n",
       "                   estimator=Pipeline(steps=[(&#x27;scaler&#x27;, StandardScaler()),\n",
       "                                             (&#x27;phishing_svc&#x27;, SVC())]),\n",
       "                   n_jobs=-1,\n",
       "                   param_distributions=[{&#x27;phishing_svc__C&#x27;: [0.1, 1, 10, 100,\n",
       "                                                             1000],\n",
       "                                         &#x27;phishing_svc__kernel&#x27;: [&#x27;linear&#x27;],\n",
       "                                         &#x27;phishing_svc__probability&#x27;: [True]},\n",
       "                                        {&#x27;phishing_svc__C&#x27;: [0.1, 1, 10, 100,\n",
       "                                                             1000],\n",
       "                                         &#x27;phishing_svc__gamma&#x27;: [0.001, 0.0001],\n",
       "                                         &#x27;phishing_svc__kernel&#x27;: [&#x27;rbf&#x27;],\n",
       "                                         &#x27;phishing_svc__probability&#x27;: [True]},\n",
       "                                        {&#x27;phishing_svc__C&#x27;: [0.1, 1, 10, 100,\n",
       "                                                             1000],\n",
       "                                         &#x27;phishing_svc__degree&#x27;: [2, 3],\n",
       "                                         &#x27;phishing_svc__gamma&#x27;: [0.001, 0.0001],\n",
       "                                         &#x27;phishing_svc__kernel&#x27;: [&#x27;poly&#x27;],\n",
       "                                         &#x27;phishing_svc__probability&#x27;: [True]}],\n",
       "                   random_state=42, scoring=&#x27;accuracy&#x27;, verbose=True)</pre></div></div></div><div class=\"sk-parallel\"><div class=\"sk-parallel-item\"><div class=\"sk-item\"><div class=\"sk-label-container\"><div class=\"sk-label sk-toggleable\"><input class=\"sk-toggleable__control sk-hidden--visually\" id=\"sk-estimator-id-3\" type=\"checkbox\" ><label for=\"sk-estimator-id-3\" class=\"sk-toggleable__label sk-toggleable__label-arrow\">estimator: Pipeline</label><div class=\"sk-toggleable__content\"><pre>Pipeline(steps=[(&#x27;scaler&#x27;, StandardScaler()), (&#x27;phishing_svc&#x27;, SVC())])</pre></div></div></div><div class=\"sk-serial\"><div class=\"sk-item\"><div class=\"sk-serial\"><div class=\"sk-item\"><div class=\"sk-estimator sk-toggleable\"><input class=\"sk-toggleable__control sk-hidden--visually\" id=\"sk-estimator-id-4\" type=\"checkbox\" ><label for=\"sk-estimator-id-4\" class=\"sk-toggleable__label sk-toggleable__label-arrow\">StandardScaler</label><div class=\"sk-toggleable__content\"><pre>StandardScaler()</pre></div></div></div><div class=\"sk-item\"><div class=\"sk-estimator sk-toggleable\"><input class=\"sk-toggleable__control sk-hidden--visually\" id=\"sk-estimator-id-5\" type=\"checkbox\" ><label for=\"sk-estimator-id-5\" class=\"sk-toggleable__label sk-toggleable__label-arrow\">SVC</label><div class=\"sk-toggleable__content\"><pre>SVC()</pre></div></div></div></div></div></div></div></div></div></div></div></div>"
      ],
      "text/plain": [
       "RandomizedSearchCV(cv=5,\n",
       "                   estimator=Pipeline(steps=[('scaler', StandardScaler()),\n",
       "                                             ('phishing_svc', SVC())]),\n",
       "                   n_jobs=-1,\n",
       "                   param_distributions=[{'phishing_svc__C': [0.1, 1, 10, 100,\n",
       "                                                             1000],\n",
       "                                         'phishing_svc__kernel': ['linear'],\n",
       "                                         'phishing_svc__probability': [True]},\n",
       "                                        {'phishing_svc__C': [0.1, 1, 10, 100,\n",
       "                                                             1000],\n",
       "                                         'phishing_svc__gamma': [0.001, 0.0001],\n",
       "                                         'phishing_svc__kernel': ['rbf'],\n",
       "                                         'phishing_svc__probability': [True]},\n",
       "                                        {'phishing_svc__C': [0.1, 1, 10, 100,\n",
       "                                                             1000],\n",
       "                                         'phishing_svc__degree': [2, 3],\n",
       "                                         'phishing_svc__gamma': [0.001, 0.0001],\n",
       "                                         'phishing_svc__kernel': ['poly'],\n",
       "                                         'phishing_svc__probability': [True]}],\n",
       "                   random_state=42, scoring='accuracy', verbose=True)"
      ]
     },
     "execution_count": 28,
     "metadata": {},
     "output_type": "execute_result"
    }
   ],
   "source": [
    "from sklearn.model_selection import RandomizedSearchCV\n",
    "param_grid = [\n",
    "    {'phishing_svc__C': [0.1, 1, 10, 100, 1000], 'phishing_svc__kernel': ['linear'], 'phishing_svc__probability': [True]},\n",
    "    {'phishing_svc__C': [0.1, 1, 10, 100, 1000], 'phishing_svc__gamma': [0.001, 0.0001], 'phishing_svc__kernel': ['rbf'], 'phishing_svc__probability': [True]},\n",
    "    {'phishing_svc__C': [0.1, 1, 10, 100, 1000], 'phishing_svc__gamma': [0.001, 0.0001], 'phishing_svc__kernel': ['poly'], 'phishing_svc__degree': [2, 3], 'phishing_svc__probability': [True]}\n",
    "] \n",
    "\n",
    "randomized_search_svm = RandomizedSearchCV(\n",
    "    full_pipeline_svm,\n",
    "    param_grid,\n",
    "    cv=5,\n",
    "    scoring='accuracy',\n",
    "    n_jobs=-1,\n",
    "    verbose=True,\n",
    "    random_state=42\n",
    ")\n",
    "randomized_search_svm.fit(phishing,phishing_lables)\n"
   ]
  },
  {
   "cell_type": "code",
   "execution_count": 29,
   "metadata": {},
   "outputs": [
    {
     "name": "stdout",
     "output_type": "stream",
     "text": [
      "Pipeline(steps=[('scaler', StandardScaler()),\n",
      "                ('phishing_svc', SVC(C=1000, gamma=0.001, probability=True))])\n",
      "{'phishing_svc__probability': True, 'phishing_svc__kernel': 'rbf', 'phishing_svc__gamma': 0.001, 'phishing_svc__C': 1000}\n"
     ]
    }
   ],
   "source": [
    "print(randomized_search_svm.best_estimator_)\n",
    "print(randomized_search_svm.best_params_)"
   ]
  },
  {
   "attachments": {},
   "cell_type": "markdown",
   "metadata": {},
   "source": [
    "RANDOM FOREST"
   ]
  },
  {
   "cell_type": "code",
   "execution_count": 34,
   "metadata": {},
   "outputs": [
    {
     "name": "stdout",
     "output_type": "stream",
     "text": [
      "Fitting 5 folds for each of 10 candidates, totalling 50 fits\n"
     ]
    },
    {
     "data": {
      "text/html": [
       "<style>#sk-container-id-3 {color: black;background-color: white;}#sk-container-id-3 pre{padding: 0;}#sk-container-id-3 div.sk-toggleable {background-color: white;}#sk-container-id-3 label.sk-toggleable__label {cursor: pointer;display: block;width: 100%;margin-bottom: 0;padding: 0.3em;box-sizing: border-box;text-align: center;}#sk-container-id-3 label.sk-toggleable__label-arrow:before {content: \"▸\";float: left;margin-right: 0.25em;color: #696969;}#sk-container-id-3 label.sk-toggleable__label-arrow:hover:before {color: black;}#sk-container-id-3 div.sk-estimator:hover label.sk-toggleable__label-arrow:before {color: black;}#sk-container-id-3 div.sk-toggleable__content {max-height: 0;max-width: 0;overflow: hidden;text-align: left;background-color: #f0f8ff;}#sk-container-id-3 div.sk-toggleable__content pre {margin: 0.2em;color: black;border-radius: 0.25em;background-color: #f0f8ff;}#sk-container-id-3 input.sk-toggleable__control:checked~div.sk-toggleable__content {max-height: 200px;max-width: 100%;overflow: auto;}#sk-container-id-3 input.sk-toggleable__control:checked~label.sk-toggleable__label-arrow:before {content: \"▾\";}#sk-container-id-3 div.sk-estimator input.sk-toggleable__control:checked~label.sk-toggleable__label {background-color: #d4ebff;}#sk-container-id-3 div.sk-label input.sk-toggleable__control:checked~label.sk-toggleable__label {background-color: #d4ebff;}#sk-container-id-3 input.sk-hidden--visually {border: 0;clip: rect(1px 1px 1px 1px);clip: rect(1px, 1px, 1px, 1px);height: 1px;margin: -1px;overflow: hidden;padding: 0;position: absolute;width: 1px;}#sk-container-id-3 div.sk-estimator {font-family: monospace;background-color: #f0f8ff;border: 1px dotted black;border-radius: 0.25em;box-sizing: border-box;margin-bottom: 0.5em;}#sk-container-id-3 div.sk-estimator:hover {background-color: #d4ebff;}#sk-container-id-3 div.sk-parallel-item::after {content: \"\";width: 100%;border-bottom: 1px solid gray;flex-grow: 1;}#sk-container-id-3 div.sk-label:hover label.sk-toggleable__label {background-color: #d4ebff;}#sk-container-id-3 div.sk-serial::before {content: \"\";position: absolute;border-left: 1px solid gray;box-sizing: border-box;top: 0;bottom: 0;left: 50%;z-index: 0;}#sk-container-id-3 div.sk-serial {display: flex;flex-direction: column;align-items: center;background-color: white;padding-right: 0.2em;padding-left: 0.2em;position: relative;}#sk-container-id-3 div.sk-item {position: relative;z-index: 1;}#sk-container-id-3 div.sk-parallel {display: flex;align-items: stretch;justify-content: center;background-color: white;position: relative;}#sk-container-id-3 div.sk-item::before, #sk-container-id-3 div.sk-parallel-item::before {content: \"\";position: absolute;border-left: 1px solid gray;box-sizing: border-box;top: 0;bottom: 0;left: 50%;z-index: -1;}#sk-container-id-3 div.sk-parallel-item {display: flex;flex-direction: column;z-index: 1;position: relative;background-color: white;}#sk-container-id-3 div.sk-parallel-item:first-child::after {align-self: flex-end;width: 50%;}#sk-container-id-3 div.sk-parallel-item:last-child::after {align-self: flex-start;width: 50%;}#sk-container-id-3 div.sk-parallel-item:only-child::after {width: 0;}#sk-container-id-3 div.sk-dashed-wrapped {border: 1px dashed gray;margin: 0 0.4em 0.5em 0.4em;box-sizing: border-box;padding-bottom: 0.4em;background-color: white;}#sk-container-id-3 div.sk-label label {font-family: monospace;font-weight: bold;display: inline-block;line-height: 1.2em;}#sk-container-id-3 div.sk-label-container {text-align: center;}#sk-container-id-3 div.sk-container {/* jupyter's `normalize.less` sets `[hidden] { display: none; }` but bootstrap.min.css set `[hidden] { display: none !important; }` so we also need the `!important` here to be able to override the default hidden behavior on the sphinx rendered scikit-learn.org. See: https://github.com/scikit-learn/scikit-learn/issues/21755 */display: inline-block !important;position: relative;}#sk-container-id-3 div.sk-text-repr-fallback {display: none;}</style><div id=\"sk-container-id-3\" class=\"sk-top-container\"><div class=\"sk-text-repr-fallback\"><pre>RandomizedSearchCV(cv=5,\n",
       "                   estimator=Pipeline(steps=[(&#x27;pca&#x27;, PCA()),\n",
       "                                             (&#x27;phishing_forest&#x27;,\n",
       "                                              RandomForestClassifier())]),\n",
       "                   n_jobs=-1,\n",
       "                   param_distributions=[{&#x27;phishing_forest__max_features&#x27;: [2, 4,\n",
       "                                                                           6,\n",
       "                                                                           8],\n",
       "                                         &#x27;phishing_forest__n_estimators&#x27;: [10,\n",
       "                                                                           100,\n",
       "                                                                           200,\n",
       "                                                                           500]},\n",
       "                                        {&#x27;phishing_forest__bootstrap&#x27;: [False],\n",
       "                                         &#x27;phishing_forest__max_features&#x27;: [2, 3,\n",
       "                                                                           4],\n",
       "                                         &#x27;phishing_forest__n_estimators&#x27;: [10,\n",
       "                                                                           100,\n",
       "                                                                           200,\n",
       "                                                                           500]}],\n",
       "                   random_state=42, scoring=&#x27;accuracy&#x27;, verbose=True)</pre><b>In a Jupyter environment, please rerun this cell to show the HTML representation or trust the notebook. <br />On GitHub, the HTML representation is unable to render, please try loading this page with nbviewer.org.</b></div><div class=\"sk-container\" hidden><div class=\"sk-item sk-dashed-wrapped\"><div class=\"sk-label-container\"><div class=\"sk-label sk-toggleable\"><input class=\"sk-toggleable__control sk-hidden--visually\" id=\"sk-estimator-id-6\" type=\"checkbox\" ><label for=\"sk-estimator-id-6\" class=\"sk-toggleable__label sk-toggleable__label-arrow\">RandomizedSearchCV</label><div class=\"sk-toggleable__content\"><pre>RandomizedSearchCV(cv=5,\n",
       "                   estimator=Pipeline(steps=[(&#x27;pca&#x27;, PCA()),\n",
       "                                             (&#x27;phishing_forest&#x27;,\n",
       "                                              RandomForestClassifier())]),\n",
       "                   n_jobs=-1,\n",
       "                   param_distributions=[{&#x27;phishing_forest__max_features&#x27;: [2, 4,\n",
       "                                                                           6,\n",
       "                                                                           8],\n",
       "                                         &#x27;phishing_forest__n_estimators&#x27;: [10,\n",
       "                                                                           100,\n",
       "                                                                           200,\n",
       "                                                                           500]},\n",
       "                                        {&#x27;phishing_forest__bootstrap&#x27;: [False],\n",
       "                                         &#x27;phishing_forest__max_features&#x27;: [2, 3,\n",
       "                                                                           4],\n",
       "                                         &#x27;phishing_forest__n_estimators&#x27;: [10,\n",
       "                                                                           100,\n",
       "                                                                           200,\n",
       "                                                                           500]}],\n",
       "                   random_state=42, scoring=&#x27;accuracy&#x27;, verbose=True)</pre></div></div></div><div class=\"sk-parallel\"><div class=\"sk-parallel-item\"><div class=\"sk-item\"><div class=\"sk-label-container\"><div class=\"sk-label sk-toggleable\"><input class=\"sk-toggleable__control sk-hidden--visually\" id=\"sk-estimator-id-7\" type=\"checkbox\" ><label for=\"sk-estimator-id-7\" class=\"sk-toggleable__label sk-toggleable__label-arrow\">estimator: Pipeline</label><div class=\"sk-toggleable__content\"><pre>Pipeline(steps=[(&#x27;pca&#x27;, PCA()), (&#x27;phishing_forest&#x27;, RandomForestClassifier())])</pre></div></div></div><div class=\"sk-serial\"><div class=\"sk-item\"><div class=\"sk-serial\"><div class=\"sk-item\"><div class=\"sk-estimator sk-toggleable\"><input class=\"sk-toggleable__control sk-hidden--visually\" id=\"sk-estimator-id-8\" type=\"checkbox\" ><label for=\"sk-estimator-id-8\" class=\"sk-toggleable__label sk-toggleable__label-arrow\">PCA</label><div class=\"sk-toggleable__content\"><pre>PCA()</pre></div></div></div><div class=\"sk-item\"><div class=\"sk-estimator sk-toggleable\"><input class=\"sk-toggleable__control sk-hidden--visually\" id=\"sk-estimator-id-9\" type=\"checkbox\" ><label for=\"sk-estimator-id-9\" class=\"sk-toggleable__label sk-toggleable__label-arrow\">RandomForestClassifier</label><div class=\"sk-toggleable__content\"><pre>RandomForestClassifier()</pre></div></div></div></div></div></div></div></div></div></div></div></div>"
      ],
      "text/plain": [
       "RandomizedSearchCV(cv=5,\n",
       "                   estimator=Pipeline(steps=[('pca', PCA()),\n",
       "                                             ('phishing_forest',\n",
       "                                              RandomForestClassifier())]),\n",
       "                   n_jobs=-1,\n",
       "                   param_distributions=[{'phishing_forest__max_features': [2, 4,\n",
       "                                                                           6,\n",
       "                                                                           8],\n",
       "                                         'phishing_forest__n_estimators': [10,\n",
       "                                                                           100,\n",
       "                                                                           200,\n",
       "                                                                           500]},\n",
       "                                        {'phishing_forest__bootstrap': [False],\n",
       "                                         'phishing_forest__max_features': [2, 3,\n",
       "                                                                           4],\n",
       "                                         'phishing_forest__n_estimators': [10,\n",
       "                                                                           100,\n",
       "                                                                           200,\n",
       "                                                                           500]}],\n",
       "                   random_state=42, scoring='accuracy', verbose=True)"
      ]
     },
     "execution_count": 34,
     "metadata": {},
     "output_type": "execute_result"
    }
   ],
   "source": [
    "params_grid_random_forest = [\n",
    "    {'phishing_forest__n_estimators': [10, 100, 200, 500], 'phishing_forest__max_features': [2, 4, 6, 8]},\n",
    "    {'phishing_forest__bootstrap': [False], 'phishing_forest__n_estimators': [10, 100, 200, 500], 'phishing_forest__max_features': [2, 3, 4]}\n",
    "]\n",
    "\n",
    "random_forest_random_search = RandomizedSearchCV(\n",
    "    full_pipeline_trees,\n",
    "    params_grid_random_forest,\n",
    "    cv=5,\n",
    "    scoring='accuracy',\n",
    "    n_jobs=-1,\n",
    "    verbose=True,\n",
    "    random_state=42\n",
    ")\n",
    "\n",
    "random_forest_random_search.fit(phishing,phishing_lables)\n"
   ]
  },
  {
   "cell_type": "code",
   "execution_count": 35,
   "metadata": {},
   "outputs": [
    {
     "data": {
      "text/plain": [
       "{'phishing_forest__n_estimators': 200,\n",
       " 'phishing_forest__max_features': 3,\n",
       " 'phishing_forest__bootstrap': False}"
      ]
     },
     "execution_count": 35,
     "metadata": {},
     "output_type": "execute_result"
    }
   ],
   "source": [
    "random_forest_random_search.best_params_"
   ]
  },
  {
   "cell_type": "code",
   "execution_count": 36,
   "metadata": {},
   "outputs": [
    {
     "data": {
      "text/html": [
       "<style>#sk-container-id-4 {color: black;background-color: white;}#sk-container-id-4 pre{padding: 0;}#sk-container-id-4 div.sk-toggleable {background-color: white;}#sk-container-id-4 label.sk-toggleable__label {cursor: pointer;display: block;width: 100%;margin-bottom: 0;padding: 0.3em;box-sizing: border-box;text-align: center;}#sk-container-id-4 label.sk-toggleable__label-arrow:before {content: \"▸\";float: left;margin-right: 0.25em;color: #696969;}#sk-container-id-4 label.sk-toggleable__label-arrow:hover:before {color: black;}#sk-container-id-4 div.sk-estimator:hover label.sk-toggleable__label-arrow:before {color: black;}#sk-container-id-4 div.sk-toggleable__content {max-height: 0;max-width: 0;overflow: hidden;text-align: left;background-color: #f0f8ff;}#sk-container-id-4 div.sk-toggleable__content pre {margin: 0.2em;color: black;border-radius: 0.25em;background-color: #f0f8ff;}#sk-container-id-4 input.sk-toggleable__control:checked~div.sk-toggleable__content {max-height: 200px;max-width: 100%;overflow: auto;}#sk-container-id-4 input.sk-toggleable__control:checked~label.sk-toggleable__label-arrow:before {content: \"▾\";}#sk-container-id-4 div.sk-estimator input.sk-toggleable__control:checked~label.sk-toggleable__label {background-color: #d4ebff;}#sk-container-id-4 div.sk-label input.sk-toggleable__control:checked~label.sk-toggleable__label {background-color: #d4ebff;}#sk-container-id-4 input.sk-hidden--visually {border: 0;clip: rect(1px 1px 1px 1px);clip: rect(1px, 1px, 1px, 1px);height: 1px;margin: -1px;overflow: hidden;padding: 0;position: absolute;width: 1px;}#sk-container-id-4 div.sk-estimator {font-family: monospace;background-color: #f0f8ff;border: 1px dotted black;border-radius: 0.25em;box-sizing: border-box;margin-bottom: 0.5em;}#sk-container-id-4 div.sk-estimator:hover {background-color: #d4ebff;}#sk-container-id-4 div.sk-parallel-item::after {content: \"\";width: 100%;border-bottom: 1px solid gray;flex-grow: 1;}#sk-container-id-4 div.sk-label:hover label.sk-toggleable__label {background-color: #d4ebff;}#sk-container-id-4 div.sk-serial::before {content: \"\";position: absolute;border-left: 1px solid gray;box-sizing: border-box;top: 0;bottom: 0;left: 50%;z-index: 0;}#sk-container-id-4 div.sk-serial {display: flex;flex-direction: column;align-items: center;background-color: white;padding-right: 0.2em;padding-left: 0.2em;position: relative;}#sk-container-id-4 div.sk-item {position: relative;z-index: 1;}#sk-container-id-4 div.sk-parallel {display: flex;align-items: stretch;justify-content: center;background-color: white;position: relative;}#sk-container-id-4 div.sk-item::before, #sk-container-id-4 div.sk-parallel-item::before {content: \"\";position: absolute;border-left: 1px solid gray;box-sizing: border-box;top: 0;bottom: 0;left: 50%;z-index: -1;}#sk-container-id-4 div.sk-parallel-item {display: flex;flex-direction: column;z-index: 1;position: relative;background-color: white;}#sk-container-id-4 div.sk-parallel-item:first-child::after {align-self: flex-end;width: 50%;}#sk-container-id-4 div.sk-parallel-item:last-child::after {align-self: flex-start;width: 50%;}#sk-container-id-4 div.sk-parallel-item:only-child::after {width: 0;}#sk-container-id-4 div.sk-dashed-wrapped {border: 1px dashed gray;margin: 0 0.4em 0.5em 0.4em;box-sizing: border-box;padding-bottom: 0.4em;background-color: white;}#sk-container-id-4 div.sk-label label {font-family: monospace;font-weight: bold;display: inline-block;line-height: 1.2em;}#sk-container-id-4 div.sk-label-container {text-align: center;}#sk-container-id-4 div.sk-container {/* jupyter's `normalize.less` sets `[hidden] { display: none; }` but bootstrap.min.css set `[hidden] { display: none !important; }` so we also need the `!important` here to be able to override the default hidden behavior on the sphinx rendered scikit-learn.org. See: https://github.com/scikit-learn/scikit-learn/issues/21755 */display: inline-block !important;position: relative;}#sk-container-id-4 div.sk-text-repr-fallback {display: none;}</style><div id=\"sk-container-id-4\" class=\"sk-top-container\"><div class=\"sk-text-repr-fallback\"><pre>Pipeline(steps=[(&#x27;pca&#x27;, PCA()),\n",
       "                (&#x27;phishing_forest&#x27;,\n",
       "                 RandomForestClassifier(bootstrap=False, max_features=3,\n",
       "                                        n_estimators=200))])</pre><b>In a Jupyter environment, please rerun this cell to show the HTML representation or trust the notebook. <br />On GitHub, the HTML representation is unable to render, please try loading this page with nbviewer.org.</b></div><div class=\"sk-container\" hidden><div class=\"sk-item sk-dashed-wrapped\"><div class=\"sk-label-container\"><div class=\"sk-label sk-toggleable\"><input class=\"sk-toggleable__control sk-hidden--visually\" id=\"sk-estimator-id-10\" type=\"checkbox\" ><label for=\"sk-estimator-id-10\" class=\"sk-toggleable__label sk-toggleable__label-arrow\">Pipeline</label><div class=\"sk-toggleable__content\"><pre>Pipeline(steps=[(&#x27;pca&#x27;, PCA()),\n",
       "                (&#x27;phishing_forest&#x27;,\n",
       "                 RandomForestClassifier(bootstrap=False, max_features=3,\n",
       "                                        n_estimators=200))])</pre></div></div></div><div class=\"sk-serial\"><div class=\"sk-item\"><div class=\"sk-estimator sk-toggleable\"><input class=\"sk-toggleable__control sk-hidden--visually\" id=\"sk-estimator-id-11\" type=\"checkbox\" ><label for=\"sk-estimator-id-11\" class=\"sk-toggleable__label sk-toggleable__label-arrow\">PCA</label><div class=\"sk-toggleable__content\"><pre>PCA()</pre></div></div></div><div class=\"sk-item\"><div class=\"sk-estimator sk-toggleable\"><input class=\"sk-toggleable__control sk-hidden--visually\" id=\"sk-estimator-id-12\" type=\"checkbox\" ><label for=\"sk-estimator-id-12\" class=\"sk-toggleable__label sk-toggleable__label-arrow\">RandomForestClassifier</label><div class=\"sk-toggleable__content\"><pre>RandomForestClassifier(bootstrap=False, max_features=3, n_estimators=200)</pre></div></div></div></div></div></div></div>"
      ],
      "text/plain": [
       "Pipeline(steps=[('pca', PCA()),\n",
       "                ('phishing_forest',\n",
       "                 RandomForestClassifier(bootstrap=False, max_features=3,\n",
       "                                        n_estimators=200))])"
      ]
     },
     "execution_count": 36,
     "metadata": {},
     "output_type": "execute_result"
    }
   ],
   "source": [
    "random_forest_random_search.best_estimator_"
   ]
  },
  {
   "attachments": {},
   "cell_type": "markdown",
   "metadata": {},
   "source": [
    "EXTRA TREES"
   ]
  },
  {
   "cell_type": "code",
   "execution_count": 38,
   "metadata": {},
   "outputs": [
    {
     "name": "stdout",
     "output_type": "stream",
     "text": [
      "Fitting 5 folds for each of 10 candidates, totalling 50 fits\n"
     ]
    },
    {
     "data": {
      "text/html": [
       "<style>#sk-container-id-5 {color: black;background-color: white;}#sk-container-id-5 pre{padding: 0;}#sk-container-id-5 div.sk-toggleable {background-color: white;}#sk-container-id-5 label.sk-toggleable__label {cursor: pointer;display: block;width: 100%;margin-bottom: 0;padding: 0.3em;box-sizing: border-box;text-align: center;}#sk-container-id-5 label.sk-toggleable__label-arrow:before {content: \"▸\";float: left;margin-right: 0.25em;color: #696969;}#sk-container-id-5 label.sk-toggleable__label-arrow:hover:before {color: black;}#sk-container-id-5 div.sk-estimator:hover label.sk-toggleable__label-arrow:before {color: black;}#sk-container-id-5 div.sk-toggleable__content {max-height: 0;max-width: 0;overflow: hidden;text-align: left;background-color: #f0f8ff;}#sk-container-id-5 div.sk-toggleable__content pre {margin: 0.2em;color: black;border-radius: 0.25em;background-color: #f0f8ff;}#sk-container-id-5 input.sk-toggleable__control:checked~div.sk-toggleable__content {max-height: 200px;max-width: 100%;overflow: auto;}#sk-container-id-5 input.sk-toggleable__control:checked~label.sk-toggleable__label-arrow:before {content: \"▾\";}#sk-container-id-5 div.sk-estimator input.sk-toggleable__control:checked~label.sk-toggleable__label {background-color: #d4ebff;}#sk-container-id-5 div.sk-label input.sk-toggleable__control:checked~label.sk-toggleable__label {background-color: #d4ebff;}#sk-container-id-5 input.sk-hidden--visually {border: 0;clip: rect(1px 1px 1px 1px);clip: rect(1px, 1px, 1px, 1px);height: 1px;margin: -1px;overflow: hidden;padding: 0;position: absolute;width: 1px;}#sk-container-id-5 div.sk-estimator {font-family: monospace;background-color: #f0f8ff;border: 1px dotted black;border-radius: 0.25em;box-sizing: border-box;margin-bottom: 0.5em;}#sk-container-id-5 div.sk-estimator:hover {background-color: #d4ebff;}#sk-container-id-5 div.sk-parallel-item::after {content: \"\";width: 100%;border-bottom: 1px solid gray;flex-grow: 1;}#sk-container-id-5 div.sk-label:hover label.sk-toggleable__label {background-color: #d4ebff;}#sk-container-id-5 div.sk-serial::before {content: \"\";position: absolute;border-left: 1px solid gray;box-sizing: border-box;top: 0;bottom: 0;left: 50%;z-index: 0;}#sk-container-id-5 div.sk-serial {display: flex;flex-direction: column;align-items: center;background-color: white;padding-right: 0.2em;padding-left: 0.2em;position: relative;}#sk-container-id-5 div.sk-item {position: relative;z-index: 1;}#sk-container-id-5 div.sk-parallel {display: flex;align-items: stretch;justify-content: center;background-color: white;position: relative;}#sk-container-id-5 div.sk-item::before, #sk-container-id-5 div.sk-parallel-item::before {content: \"\";position: absolute;border-left: 1px solid gray;box-sizing: border-box;top: 0;bottom: 0;left: 50%;z-index: -1;}#sk-container-id-5 div.sk-parallel-item {display: flex;flex-direction: column;z-index: 1;position: relative;background-color: white;}#sk-container-id-5 div.sk-parallel-item:first-child::after {align-self: flex-end;width: 50%;}#sk-container-id-5 div.sk-parallel-item:last-child::after {align-self: flex-start;width: 50%;}#sk-container-id-5 div.sk-parallel-item:only-child::after {width: 0;}#sk-container-id-5 div.sk-dashed-wrapped {border: 1px dashed gray;margin: 0 0.4em 0.5em 0.4em;box-sizing: border-box;padding-bottom: 0.4em;background-color: white;}#sk-container-id-5 div.sk-label label {font-family: monospace;font-weight: bold;display: inline-block;line-height: 1.2em;}#sk-container-id-5 div.sk-label-container {text-align: center;}#sk-container-id-5 div.sk-container {/* jupyter's `normalize.less` sets `[hidden] { display: none; }` but bootstrap.min.css set `[hidden] { display: none !important; }` so we also need the `!important` here to be able to override the default hidden behavior on the sphinx rendered scikit-learn.org. See: https://github.com/scikit-learn/scikit-learn/issues/21755 */display: inline-block !important;position: relative;}#sk-container-id-5 div.sk-text-repr-fallback {display: none;}</style><div id=\"sk-container-id-5\" class=\"sk-top-container\"><div class=\"sk-text-repr-fallback\"><pre>RandomizedSearchCV(cv=5,\n",
       "                   estimator=Pipeline(steps=[(&#x27;pca&#x27;, PCA()),\n",
       "                                             (&#x27;phishing_extra_trees&#x27;,\n",
       "                                              ExtraTreesClassifier())]),\n",
       "                   n_jobs=-1,\n",
       "                   param_distributions=[{&#x27;phishing_extra_trees__max_depth&#x27;: [2,\n",
       "                                                                             4,\n",
       "                                                                             6],\n",
       "                                         &#x27;phishing_extra_trees__max_features&#x27;: [2,\n",
       "                                                                                4,\n",
       "                                                                                6,\n",
       "                                                                                8],\n",
       "                                         &#x27;phishing_extra_trees__min_samples_leaf&#x27;: [1,\n",
       "                                                                                    2,\n",
       "                                                                                    4],\n",
       "                                         &#x27;phishing_extra_trees__n_estimators&#x27;: [10,\n",
       "                                                                                100,\n",
       "                                                                                200,\n",
       "                                                                                500]},\n",
       "                                        {&#x27;phishing_extra_trees__bootstrap&#x27;: [False],\n",
       "                                         &#x27;phishing_extra_trees__max_depth&#x27;: [2,\n",
       "                                                                             4,\n",
       "                                                                             6],\n",
       "                                         &#x27;phishing_extra_trees__max_features&#x27;: [2,\n",
       "                                                                                3,\n",
       "                                                                                4],\n",
       "                                         &#x27;phishing_extra_trees__min_samples_leaf&#x27;: [1,\n",
       "                                                                                    2,\n",
       "                                                                                    4],\n",
       "                                         &#x27;phishing_extra_trees__n_estimators&#x27;: [10,\n",
       "                                                                                100,\n",
       "                                                                                200,\n",
       "                                                                                500]}],\n",
       "                   random_state=42, scoring=&#x27;accuracy&#x27;, verbose=True)</pre><b>In a Jupyter environment, please rerun this cell to show the HTML representation or trust the notebook. <br />On GitHub, the HTML representation is unable to render, please try loading this page with nbviewer.org.</b></div><div class=\"sk-container\" hidden><div class=\"sk-item sk-dashed-wrapped\"><div class=\"sk-label-container\"><div class=\"sk-label sk-toggleable\"><input class=\"sk-toggleable__control sk-hidden--visually\" id=\"sk-estimator-id-13\" type=\"checkbox\" ><label for=\"sk-estimator-id-13\" class=\"sk-toggleable__label sk-toggleable__label-arrow\">RandomizedSearchCV</label><div class=\"sk-toggleable__content\"><pre>RandomizedSearchCV(cv=5,\n",
       "                   estimator=Pipeline(steps=[(&#x27;pca&#x27;, PCA()),\n",
       "                                             (&#x27;phishing_extra_trees&#x27;,\n",
       "                                              ExtraTreesClassifier())]),\n",
       "                   n_jobs=-1,\n",
       "                   param_distributions=[{&#x27;phishing_extra_trees__max_depth&#x27;: [2,\n",
       "                                                                             4,\n",
       "                                                                             6],\n",
       "                                         &#x27;phishing_extra_trees__max_features&#x27;: [2,\n",
       "                                                                                4,\n",
       "                                                                                6,\n",
       "                                                                                8],\n",
       "                                         &#x27;phishing_extra_trees__min_samples_leaf&#x27;: [1,\n",
       "                                                                                    2,\n",
       "                                                                                    4],\n",
       "                                         &#x27;phishing_extra_trees__n_estimators&#x27;: [10,\n",
       "                                                                                100,\n",
       "                                                                                200,\n",
       "                                                                                500]},\n",
       "                                        {&#x27;phishing_extra_trees__bootstrap&#x27;: [False],\n",
       "                                         &#x27;phishing_extra_trees__max_depth&#x27;: [2,\n",
       "                                                                             4,\n",
       "                                                                             6],\n",
       "                                         &#x27;phishing_extra_trees__max_features&#x27;: [2,\n",
       "                                                                                3,\n",
       "                                                                                4],\n",
       "                                         &#x27;phishing_extra_trees__min_samples_leaf&#x27;: [1,\n",
       "                                                                                    2,\n",
       "                                                                                    4],\n",
       "                                         &#x27;phishing_extra_trees__n_estimators&#x27;: [10,\n",
       "                                                                                100,\n",
       "                                                                                200,\n",
       "                                                                                500]}],\n",
       "                   random_state=42, scoring=&#x27;accuracy&#x27;, verbose=True)</pre></div></div></div><div class=\"sk-parallel\"><div class=\"sk-parallel-item\"><div class=\"sk-item\"><div class=\"sk-label-container\"><div class=\"sk-label sk-toggleable\"><input class=\"sk-toggleable__control sk-hidden--visually\" id=\"sk-estimator-id-14\" type=\"checkbox\" ><label for=\"sk-estimator-id-14\" class=\"sk-toggleable__label sk-toggleable__label-arrow\">estimator: Pipeline</label><div class=\"sk-toggleable__content\"><pre>Pipeline(steps=[(&#x27;pca&#x27;, PCA()),\n",
       "                (&#x27;phishing_extra_trees&#x27;, ExtraTreesClassifier())])</pre></div></div></div><div class=\"sk-serial\"><div class=\"sk-item\"><div class=\"sk-serial\"><div class=\"sk-item\"><div class=\"sk-estimator sk-toggleable\"><input class=\"sk-toggleable__control sk-hidden--visually\" id=\"sk-estimator-id-15\" type=\"checkbox\" ><label for=\"sk-estimator-id-15\" class=\"sk-toggleable__label sk-toggleable__label-arrow\">PCA</label><div class=\"sk-toggleable__content\"><pre>PCA()</pre></div></div></div><div class=\"sk-item\"><div class=\"sk-estimator sk-toggleable\"><input class=\"sk-toggleable__control sk-hidden--visually\" id=\"sk-estimator-id-16\" type=\"checkbox\" ><label for=\"sk-estimator-id-16\" class=\"sk-toggleable__label sk-toggleable__label-arrow\">ExtraTreesClassifier</label><div class=\"sk-toggleable__content\"><pre>ExtraTreesClassifier()</pre></div></div></div></div></div></div></div></div></div></div></div></div>"
      ],
      "text/plain": [
       "RandomizedSearchCV(cv=5,\n",
       "                   estimator=Pipeline(steps=[('pca', PCA()),\n",
       "                                             ('phishing_extra_trees',\n",
       "                                              ExtraTreesClassifier())]),\n",
       "                   n_jobs=-1,\n",
       "                   param_distributions=[{'phishing_extra_trees__max_depth': [2,\n",
       "                                                                             4,\n",
       "                                                                             6],\n",
       "                                         'phishing_extra_trees__max_features': [2,\n",
       "                                                                                4,\n",
       "                                                                                6,\n",
       "                                                                                8],\n",
       "                                         'phishing_extra_trees__min_samples_leaf': [1,\n",
       "                                                                                    2,\n",
       "                                                                                    4],\n",
       "                                         'phishing_extra_trees__n_estimators': [10,\n",
       "                                                                                100,\n",
       "                                                                                200,\n",
       "                                                                                500]},\n",
       "                                        {'phishing_extra_trees__bootstrap': [False],\n",
       "                                         'phishing_extra_trees__max_depth': [2,\n",
       "                                                                             4,\n",
       "                                                                             6],\n",
       "                                         'phishing_extra_trees__max_features': [2,\n",
       "                                                                                3,\n",
       "                                                                                4],\n",
       "                                         'phishing_extra_trees__min_samples_leaf': [1,\n",
       "                                                                                    2,\n",
       "                                                                                    4],\n",
       "                                         'phishing_extra_trees__n_estimators': [10,\n",
       "                                                                                100,\n",
       "                                                                                200,\n",
       "                                                                                500]}],\n",
       "                   random_state=42, scoring='accuracy', verbose=True)"
      ]
     },
     "execution_count": 38,
     "metadata": {},
     "output_type": "execute_result"
    }
   ],
   "source": [
    "param_grid_extra_trees =[\n",
    "    {'phishing_extra_trees__n_estimators': [10, 100, 200, 500], 'phishing_extra_trees__max_features': [2, 4, 6, 8], 'phishing_extra_trees__max_depth': [2, 4, 6], 'phishing_extra_trees__min_samples_leaf': [1, 2, 4]},\n",
    "    {'phishing_extra_trees__bootstrap': [False], 'phishing_extra_trees__n_estimators': [10, 100, 200, 500], 'phishing_extra_trees__max_features': [2, 3, 4], 'phishing_extra_trees__max_depth': [2, 4, 6], 'phishing_extra_trees__min_samples_leaf': [1, 2, 4]}\n",
    "]\n",
    "\n",
    "full_pipeline_extra_trees = Pipeline([\n",
    "    (\"pca\",PCA()),\n",
    "    (\"phishing_extra_trees\",phishing_extra_trees)\n",
    "])\n",
    "\n",
    "extra_trees_random_search = RandomizedSearchCV(\n",
    "    full_pipeline_extra_trees,\n",
    "    param_grid_extra_trees,\n",
    "    cv=5,\n",
    "    scoring='accuracy',\n",
    "    n_jobs=-1,\n",
    "    verbose=True,\n",
    "    random_state=42\n",
    ")\n",
    "\n",
    "extra_trees_random_search.fit(phishing,phishing_lables)"
   ]
  },
  {
   "cell_type": "code",
   "execution_count": 39,
   "metadata": {},
   "outputs": [
    {
     "data": {
      "text/html": [
       "<style>#sk-container-id-6 {color: black;background-color: white;}#sk-container-id-6 pre{padding: 0;}#sk-container-id-6 div.sk-toggleable {background-color: white;}#sk-container-id-6 label.sk-toggleable__label {cursor: pointer;display: block;width: 100%;margin-bottom: 0;padding: 0.3em;box-sizing: border-box;text-align: center;}#sk-container-id-6 label.sk-toggleable__label-arrow:before {content: \"▸\";float: left;margin-right: 0.25em;color: #696969;}#sk-container-id-6 label.sk-toggleable__label-arrow:hover:before {color: black;}#sk-container-id-6 div.sk-estimator:hover label.sk-toggleable__label-arrow:before {color: black;}#sk-container-id-6 div.sk-toggleable__content {max-height: 0;max-width: 0;overflow: hidden;text-align: left;background-color: #f0f8ff;}#sk-container-id-6 div.sk-toggleable__content pre {margin: 0.2em;color: black;border-radius: 0.25em;background-color: #f0f8ff;}#sk-container-id-6 input.sk-toggleable__control:checked~div.sk-toggleable__content {max-height: 200px;max-width: 100%;overflow: auto;}#sk-container-id-6 input.sk-toggleable__control:checked~label.sk-toggleable__label-arrow:before {content: \"▾\";}#sk-container-id-6 div.sk-estimator input.sk-toggleable__control:checked~label.sk-toggleable__label {background-color: #d4ebff;}#sk-container-id-6 div.sk-label input.sk-toggleable__control:checked~label.sk-toggleable__label {background-color: #d4ebff;}#sk-container-id-6 input.sk-hidden--visually {border: 0;clip: rect(1px 1px 1px 1px);clip: rect(1px, 1px, 1px, 1px);height: 1px;margin: -1px;overflow: hidden;padding: 0;position: absolute;width: 1px;}#sk-container-id-6 div.sk-estimator {font-family: monospace;background-color: #f0f8ff;border: 1px dotted black;border-radius: 0.25em;box-sizing: border-box;margin-bottom: 0.5em;}#sk-container-id-6 div.sk-estimator:hover {background-color: #d4ebff;}#sk-container-id-6 div.sk-parallel-item::after {content: \"\";width: 100%;border-bottom: 1px solid gray;flex-grow: 1;}#sk-container-id-6 div.sk-label:hover label.sk-toggleable__label {background-color: #d4ebff;}#sk-container-id-6 div.sk-serial::before {content: \"\";position: absolute;border-left: 1px solid gray;box-sizing: border-box;top: 0;bottom: 0;left: 50%;z-index: 0;}#sk-container-id-6 div.sk-serial {display: flex;flex-direction: column;align-items: center;background-color: white;padding-right: 0.2em;padding-left: 0.2em;position: relative;}#sk-container-id-6 div.sk-item {position: relative;z-index: 1;}#sk-container-id-6 div.sk-parallel {display: flex;align-items: stretch;justify-content: center;background-color: white;position: relative;}#sk-container-id-6 div.sk-item::before, #sk-container-id-6 div.sk-parallel-item::before {content: \"\";position: absolute;border-left: 1px solid gray;box-sizing: border-box;top: 0;bottom: 0;left: 50%;z-index: -1;}#sk-container-id-6 div.sk-parallel-item {display: flex;flex-direction: column;z-index: 1;position: relative;background-color: white;}#sk-container-id-6 div.sk-parallel-item:first-child::after {align-self: flex-end;width: 50%;}#sk-container-id-6 div.sk-parallel-item:last-child::after {align-self: flex-start;width: 50%;}#sk-container-id-6 div.sk-parallel-item:only-child::after {width: 0;}#sk-container-id-6 div.sk-dashed-wrapped {border: 1px dashed gray;margin: 0 0.4em 0.5em 0.4em;box-sizing: border-box;padding-bottom: 0.4em;background-color: white;}#sk-container-id-6 div.sk-label label {font-family: monospace;font-weight: bold;display: inline-block;line-height: 1.2em;}#sk-container-id-6 div.sk-label-container {text-align: center;}#sk-container-id-6 div.sk-container {/* jupyter's `normalize.less` sets `[hidden] { display: none; }` but bootstrap.min.css set `[hidden] { display: none !important; }` so we also need the `!important` here to be able to override the default hidden behavior on the sphinx rendered scikit-learn.org. See: https://github.com/scikit-learn/scikit-learn/issues/21755 */display: inline-block !important;position: relative;}#sk-container-id-6 div.sk-text-repr-fallback {display: none;}</style><div id=\"sk-container-id-6\" class=\"sk-top-container\"><div class=\"sk-text-repr-fallback\"><pre>Pipeline(steps=[(&#x27;pca&#x27;, PCA()),\n",
       "                (&#x27;phishing_extra_trees&#x27;,\n",
       "                 ExtraTreesClassifier(max_depth=6, max_features=4,\n",
       "                                      n_estimators=500))])</pre><b>In a Jupyter environment, please rerun this cell to show the HTML representation or trust the notebook. <br />On GitHub, the HTML representation is unable to render, please try loading this page with nbviewer.org.</b></div><div class=\"sk-container\" hidden><div class=\"sk-item sk-dashed-wrapped\"><div class=\"sk-label-container\"><div class=\"sk-label sk-toggleable\"><input class=\"sk-toggleable__control sk-hidden--visually\" id=\"sk-estimator-id-17\" type=\"checkbox\" ><label for=\"sk-estimator-id-17\" class=\"sk-toggleable__label sk-toggleable__label-arrow\">Pipeline</label><div class=\"sk-toggleable__content\"><pre>Pipeline(steps=[(&#x27;pca&#x27;, PCA()),\n",
       "                (&#x27;phishing_extra_trees&#x27;,\n",
       "                 ExtraTreesClassifier(max_depth=6, max_features=4,\n",
       "                                      n_estimators=500))])</pre></div></div></div><div class=\"sk-serial\"><div class=\"sk-item\"><div class=\"sk-estimator sk-toggleable\"><input class=\"sk-toggleable__control sk-hidden--visually\" id=\"sk-estimator-id-18\" type=\"checkbox\" ><label for=\"sk-estimator-id-18\" class=\"sk-toggleable__label sk-toggleable__label-arrow\">PCA</label><div class=\"sk-toggleable__content\"><pre>PCA()</pre></div></div></div><div class=\"sk-item\"><div class=\"sk-estimator sk-toggleable\"><input class=\"sk-toggleable__control sk-hidden--visually\" id=\"sk-estimator-id-19\" type=\"checkbox\" ><label for=\"sk-estimator-id-19\" class=\"sk-toggleable__label sk-toggleable__label-arrow\">ExtraTreesClassifier</label><div class=\"sk-toggleable__content\"><pre>ExtraTreesClassifier(max_depth=6, max_features=4, n_estimators=500)</pre></div></div></div></div></div></div></div>"
      ],
      "text/plain": [
       "Pipeline(steps=[('pca', PCA()),\n",
       "                ('phishing_extra_trees',\n",
       "                 ExtraTreesClassifier(max_depth=6, max_features=4,\n",
       "                                      n_estimators=500))])"
      ]
     },
     "execution_count": 39,
     "metadata": {},
     "output_type": "execute_result"
    }
   ],
   "source": [
    "extra_trees_random_search.best_estimator_"
   ]
  },
  {
   "cell_type": "code",
   "execution_count": 40,
   "metadata": {},
   "outputs": [
    {
     "data": {
      "text/plain": [
       "{'phishing_extra_trees__n_estimators': 500,\n",
       " 'phishing_extra_trees__min_samples_leaf': 1,\n",
       " 'phishing_extra_trees__max_features': 4,\n",
       " 'phishing_extra_trees__max_depth': 6}"
      ]
     },
     "execution_count": 40,
     "metadata": {},
     "output_type": "execute_result"
    }
   ],
   "source": [
    "extra_trees_random_search.best_params_"
   ]
  },
  {
   "cell_type": "code",
   "execution_count": 41,
   "metadata": {},
   "outputs": [],
   "source": [
    "from sklearn.metrics import confusion_matrix\n",
    "from sklearn.metrics import f1_score\n",
    "from sklearn.metrics import accuracy_score, precision_score,recall_score,auc, roc_curve, PrecisionRecallDisplay\n",
    "import seaborn as sns\n",
    "\n",
    "def print_metrics(y_true, y_pred):\n",
    "    cf_matrix = confusion_matrix(y_true, y_pred)\n",
    "    group_names = ['True Neg','False Pos','False Neg','True Pos']\n",
    "    group_counts = [\"{0:0.0f}\".format(value) for value in cf_matrix.flatten()]\n",
    "    group_percentages = [\"{0:.2%}\".format(value) for value in cf_matrix.flatten()/np.sum(cf_matrix)]\n",
    "    labels = [f\"{v1}\\n{v2}\\n{v3}\" for v1, v2, v3 in zip(group_names,group_counts,group_percentages)]\n",
    "    labels = np.asarray(labels).reshape(2,2)\n",
    "    sns.heatmap(cf_matrix, annot=labels, fmt='', cmap='Blues')\n",
    "\n",
    "    print(\"Accuracy: %.2f%%\" % (accuracy_score(y_true, y_pred) * 100.0))\n",
    "    print(\"F1 Score: %.2f%%\" % (f1_score(y_true, y_pred) * 100.0))\n",
    "    print(\"Precision: %.2f%%\" % (precision_score(y_true, y_pred) * 100.0))\n",
    "    print(\"Recall: %.2f%%\" % (recall_score(y_true, y_pred) * 100.0))\n",
    "    fpr, tpr, thresholds = roc_curve(y_true, y_pred)\n",
    "    print(\"AUC: %.2f%%\" % (auc(fpr, tpr) * 100.0))"
   ]
  },
  {
   "attachments": {},
   "cell_type": "markdown",
   "metadata": {},
   "source": [
    "SVM"
   ]
  },
  {
   "cell_type": "code",
   "execution_count": 49,
   "metadata": {},
   "outputs": [
    {
     "data": {
      "text/plain": [
       "['models/svm_clasifier.pkl']"
      ]
     },
     "execution_count": 49,
     "metadata": {},
     "output_type": "execute_result"
    }
   ],
   "source": [
    "import joblib\n",
    "final_model_svm = randomized_search_svm.best_estimator_\n",
    "final_model_svm.fit(phishing,phishing_lables)\n",
    "\n",
    "joblib.dump(final_model_svm,'models/svm_clasifier.pkl')\n"
   ]
  },
  {
   "attachments": {},
   "cell_type": "markdown",
   "metadata": {},
   "source": [
    "RANDOM FOREST"
   ]
  },
  {
   "cell_type": "code",
   "execution_count": 50,
   "metadata": {},
   "outputs": [
    {
     "data": {
      "text/plain": [
       "['models/random_forest_clasifier.pkl']"
      ]
     },
     "execution_count": 50,
     "metadata": {},
     "output_type": "execute_result"
    }
   ],
   "source": [
    "final_model_random_forest = random_forest_random_search.best_estimator_\n",
    "final_model_random_forest.fit(phishing,phishing_lables)\n",
    "joblib.dump(final_model_random_forest,'models/random_forest_clasifier.pkl')"
   ]
  },
  {
   "cell_type": "code",
   "execution_count": 51,
   "metadata": {},
   "outputs": [
    {
     "data": {
      "text/plain": [
       "['models/extra_trees_clasifier.pkl']"
      ]
     },
     "execution_count": 51,
     "metadata": {},
     "output_type": "execute_result"
    }
   ],
   "source": [
    "final_model_extra_trees = extra_trees_random_search.best_estimator_\n",
    "final_model_extra_trees.fit(phishing,phishing_lables)\n",
    "joblib.dump(final_model_extra_trees,'models/extra_trees_clasifier.pkl')"
   ]
  },
  {
   "cell_type": "code",
   "execution_count": 52,
   "metadata": {},
   "outputs": [
    {
     "data": {
      "text/plain": [
       "0.42957174723720287"
      ]
     },
     "execution_count": 52,
     "metadata": {},
     "output_type": "execute_result"
    }
   ],
   "source": [
    "\n",
    "X_test = strat_test_set.drop(\"Result\",axis=1)\n",
    "y_test = strat_test_set[\"Result\"].copy()\n",
    "\n",
    "final_prediction_svm = final_model_svm.predict(X_test)\n",
    "\n",
    "final_mse_svm = mean_squared_error(y_test,final_prediction_svm)\n",
    "final_rmse_svm = np.sqrt(final_mse_svm)\n",
    "final_rmse_svm"
   ]
  },
  {
   "cell_type": "code",
   "execution_count": 53,
   "metadata": {},
   "outputs": [
    {
     "name": "stdout",
     "output_type": "stream",
     "text": [
      "Accuracy: 95.39%\n",
      "F1 Score: 95.91%\n",
      "Precision: 94.62%\n",
      "Recall: 97.24%\n",
      "AUC: 95.15%\n"
     ]
    },
    {
     "data": {
      "image/png": "[encoded data removed]",
      "text/plain": [
       "<Figure size 640x480 with 2 Axes>"
      ]
     },
     "metadata": {},
     "output_type": "display_data"
    }
   ],
   "source": [
    "print_metrics(y_test,final_prediction_svm)"
   ]
  },
  {
   "cell_type": "code",
   "execution_count": 54,
   "metadata": {},
   "outputs": [
    {
     "data": {
      "text/plain": [
       "0.34027152804729077"
      ]
     },
     "execution_count": 54,
     "metadata": {},
     "output_type": "execute_result"
    }
   ],
   "source": [
    "final_model_random_forest = random_forest_random_search.best_estimator_\n",
    "X_test = strat_test_set.drop(\"Result\",axis=1)\n",
    "y_test = strat_test_set[\"Result\"].copy()\n",
    "\n",
    "final_prediction_random_forest = final_model_random_forest.predict(X_test)\n",
    "\n",
    "final_mse_random_forest = mean_squared_error(y_test,final_prediction_random_forest)\n",
    "final_rmse_random_forest = np.sqrt(final_mse_random_forest)\n",
    "final_rmse_random_forest"
   ]
  },
  {
   "cell_type": "code",
   "execution_count": 55,
   "metadata": {},
   "outputs": [
    {
     "name": "stdout",
     "output_type": "stream",
     "text": [
      "Accuracy: 97.11%\n",
      "F1 Score: 97.41%\n",
      "Precision: 96.94%\n",
      "Recall: 97.89%\n",
      "AUC: 97.01%\n"
     ]
    },
    {
     "data": {
      "image/png": "[encoded data removed]",
      "text/plain": [
       "<Figure size 640x480 with 2 Axes>"
      ]
     },
     "metadata": {},
     "output_type": "display_data"
    }
   ],
   "source": [
    "print_metrics(y_test,final_prediction_random_forest)"
   ]
  },
  {
   "cell_type": "code",
   "execution_count": 56,
   "metadata": {},
   "outputs": [
    {
     "data": {
      "text/plain": [
       "0.5969923107431001"
      ]
     },
     "execution_count": 56,
     "metadata": {},
     "output_type": "execute_result"
    }
   ],
   "source": [
    "final_model_extra_trees = extra_trees_random_search.best_estimator_\n",
    "X_test = strat_test_set.drop(\"Result\",axis=1)\n",
    "y_test = strat_test_set[\"Result\"].copy()\n",
    "\n",
    "final_prediction_extra_trees = final_model_extra_trees.predict(X_test)\n",
    "final_mse_extra_trees = mean_squared_error(y_test,final_prediction_extra_trees)\n",
    "final_rmse_extra_trees = np.sqrt(final_mse_extra_trees)\n",
    "final_rmse_extra_trees"
   ]
  },
  {
   "cell_type": "code",
   "execution_count": 57,
   "metadata": {},
   "outputs": [
    {
     "name": "stdout",
     "output_type": "stream",
     "text": [
      "Accuracy: 91.09%\n",
      "F1 Score: 92.44%\n",
      "Precision: 87.57%\n",
      "Recall: 97.89%\n",
      "AUC: 90.22%\n"
     ]
    },
    {
     "data": {
      "image/png": "[encoded data removed]",
      "text/plain": [
       "<Figure size 640x480 with 2 Axes>"
      ]
     },
     "metadata": {},
     "output_type": "display_data"
    }
   ],
   "source": [
    "print_metrics(y_test,final_prediction_extra_trees)"
   ]
  },
  {
   "cell_type": "code",
   "execution_count": 58,
   "metadata": {},
   "outputs": [
    {
     "data": {
      "text/plain": [
       "['pipelines/pipeline_extra_trees.pkl']"
      ]
     },
     "execution_count": 58,
     "metadata": {},
     "output_type": "execute_result"
    }
   ],
   "source": [
    "import joblib\n",
    "\n",
    "joblib.dump(full_pipeline_svm,\"pipelines/pipeline_svm.pkl\")\n",
    "joblib.dump(full_pipeline_trees,\"pipelines/pipeline_trees.pkl\")\n",
    "joblib.dump(full_pipeline_extra_trees,\"pipelines/pipeline_extra_trees.pkl\")\n"
   ]
  }
 ],
 "metadata": {
  "kernelspec": {
   "display_name": "Python 3",
   "language": "python",
   "name": "python3"
  },
  "language_info": {
   "codemirror_mode": {
    "name": "ipython",
    "version": 3
   },
   "file_extension": ".py",
   "mimetype": "text/x-python",
   "name": "python",
   "nbconvert_exporter": "python",
   "pygments_lexer": "ipython3",
   "version": "3.10.10"
  },
  "orig_nbformat": 4
 },
 "nbformat": 4,
 "nbformat_minor": 2
}
